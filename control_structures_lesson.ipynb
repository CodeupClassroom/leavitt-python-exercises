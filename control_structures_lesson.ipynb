{
 "cells": [
  {
   "cell_type": "code",
   "execution_count": 1,
   "id": "4bcfdc2d",
   "metadata": {},
   "outputs": [],
   "source": [
    "# If Statements:\n",
    "# If True, do thing.\n",
    "# \n",
    "# \n",
    "# "
   ]
  },
  {
   "cell_type": "code",
   "execution_count": 2,
   "id": "960cfd2c",
   "metadata": {},
   "outputs": [
    {
     "name": "stdout",
     "output_type": "stream",
     "text": [
      "hi!\n"
     ]
    }
   ],
   "source": [
    "if True:\n",
    "    print('hi!')"
   ]
  },
  {
   "cell_type": "code",
   "execution_count": 3,
   "id": "0d79948a",
   "metadata": {},
   "outputs": [],
   "source": [
    "if False:\n",
    "    print('hi!')"
   ]
  },
  {
   "cell_type": "code",
   "execution_count": 4,
   "id": "9f57b27d",
   "metadata": {},
   "outputs": [],
   "source": [
    "# else, elif:\n",
    "# if the parameters of my first things dont work, \n",
    "# do another thing"
   ]
  },
  {
   "cell_type": "code",
   "execution_count": 5,
   "id": "3aed59db",
   "metadata": {},
   "outputs": [
    {
     "name": "stdout",
     "output_type": "stream",
     "text": [
      "yes its tuesday\n"
     ]
    }
   ],
   "source": [
    "is_tuesday = True\n",
    "\n",
    "if is_tuesday:\n",
    "    print('yes its tuesday')"
   ]
  },
  {
   "cell_type": "code",
   "execution_count": 6,
   "id": "786881f6",
   "metadata": {},
   "outputs": [],
   "source": [
    "day_of_week = 'tuesday'"
   ]
  },
  {
   "cell_type": "code",
   "execution_count": 7,
   "id": "7b351ae0",
   "metadata": {
    "scrolled": true
   },
   "outputs": [
    {
     "name": "stdout",
     "output_type": "stream",
     "text": [
      "that's today!\n"
     ]
    }
   ],
   "source": [
    "if day_of_week == 'tuesday':\n",
    "    print('that\\'s today!')\n",
    "else:\n",
    "    print('more boring day')"
   ]
  },
  {
   "cell_type": "code",
   "execution_count": null,
   "id": "0acae252",
   "metadata": {},
   "outputs": [],
   "source": []
  },
  {
   "cell_type": "code",
   "execution_count": 8,
   "id": "e0a3da2f",
   "metadata": {},
   "outputs": [],
   "source": [
    "day_of_week = 'wednesday'"
   ]
  },
  {
   "cell_type": "code",
   "execution_count": 9,
   "id": "42b246a9",
   "metadata": {},
   "outputs": [
    {
     "name": "stdout",
     "output_type": "stream",
     "text": [
      "more boring day\n"
     ]
    }
   ],
   "source": [
    "if day_of_week == 'tuesday':\n",
    "    print('that\\'s today!')\n",
    "else:\n",
    "    print('more boring day')"
   ]
  },
  {
   "cell_type": "code",
   "execution_count": 10,
   "id": "39a9b26a",
   "metadata": {},
   "outputs": [],
   "source": [
    "# more complex: elif"
   ]
  },
  {
   "cell_type": "code",
   "execution_count": 12,
   "id": "484e4a61",
   "metadata": {},
   "outputs": [],
   "source": [
    "day_of_week = 'tuesday'"
   ]
  },
  {
   "cell_type": "code",
   "execution_count": 18,
   "id": "80d6d5db",
   "metadata": {},
   "outputs": [],
   "source": [
    "second_thing = 'nearly_fiveish'"
   ]
  },
  {
   "cell_type": "code",
   "execution_count": 15,
   "id": "3e535333",
   "metadata": {},
   "outputs": [
    {
     "name": "stdout",
     "output_type": "stream",
     "text": [
      "thats today!\n",
      "dismiss\n"
     ]
    }
   ],
   "source": [
    "if day_of_week == 'tuesday':\n",
    "    print('thats today!')\n",
    "elif day_of_week == 'wednesday':\n",
    "    print('tomorrow!')\n",
    "if second_thing == 'nearly_five':\n",
    "    print('dismiss')\n",
    "elif day_of_week == 'monday':\n",
    "    print('garfield')\n",
    "else:\n",
    "    'what day is it???'"
   ]
  },
  {
   "cell_type": "code",
   "execution_count": 21,
   "id": "b7f3a77e",
   "metadata": {},
   "outputs": [
    {
     "name": "stdout",
     "output_type": "stream",
     "text": [
      "what day is it???\n"
     ]
    }
   ],
   "source": [
    "if day_of_week == 'tuesday' and second_thing == 'nearly_five':\n",
    "    print('thats today!')\n",
    "elif day_of_week == 'wednesday':\n",
    "    print('tomorrow!')\n",
    "elif day_of_week == 'monday':\n",
    "    print('garfield')\n",
    "else:\n",
    "    print('what day is it???')"
   ]
  },
  {
   "cell_type": "code",
   "execution_count": 22,
   "id": "9efb571d",
   "metadata": {},
   "outputs": [
    {
     "name": "stdout",
     "output_type": "stream",
     "text": [
      "thats today!\n"
     ]
    }
   ],
   "source": [
    "if day_of_week == 'tuesday':\n",
    "    print('thats today!')\n",
    "elif second_thing == 'nearly_five':\n",
    "    print('dismiss')\n",
    "elif day_of_week == 'monday':\n",
    "    print('garfield')\n",
    "else:\n",
    "    'what day is it???'"
   ]
  },
  {
   "cell_type": "markdown",
   "id": "76b6b7ea",
   "metadata": {},
   "source": [
    "## Review of topics already covered:"
   ]
  },
  {
   "cell_type": "code",
   "execution_count": 23,
   "id": "09d93308",
   "metadata": {},
   "outputs": [],
   "source": [
    "# if statements posit a condition\n",
    "# if condition is true, do a thing\n",
    "\n",
    "# else: \n",
    "# if first thing is not true, do this other thing\n",
    "\n",
    "# elif:\n",
    "# lives between those two, and we say \n",
    "# with it, if thing 1 is not true, check to see,\n",
    "# if this second is true. if so, do this second instead\n",
    "\n",
    "# otherwise, if we make it through all ifs and elifs,\n",
    "# do the else"
   ]
  },
  {
   "cell_type": "code",
   "execution_count": 24,
   "id": "49e25714",
   "metadata": {},
   "outputs": [],
   "source": [
    "beverage_of_choice = 'coffee'"
   ]
  },
  {
   "cell_type": "code",
   "execution_count": 25,
   "id": "75c0af9a",
   "metadata": {},
   "outputs": [],
   "source": [
    "# a single if statement with no else,\n",
    "# will parse the condition,\n",
    "# if it is not true, it will just pass by it\n",
    "if beverage_of_choice == 'monster':\n",
    "    print('oof')"
   ]
  },
  {
   "cell_type": "code",
   "execution_count": 26,
   "id": "e833fb94",
   "metadata": {},
   "outputs": [
    {
     "name": "stdout",
     "output_type": "stream",
     "text": [
      "well what are you drinking then\n"
     ]
    }
   ],
   "source": [
    "# a single if statement with one else,\n",
    "# will parse the condition,\n",
    "# if it is not true, it will go to the else action\n",
    "if beverage_of_choice == 'monster':\n",
    "    print('oof')\n",
    "else:\n",
    "    print('well what are you drinking then')"
   ]
  },
  {
   "cell_type": "code",
   "execution_count": 27,
   "id": "3ff31c2b",
   "metadata": {},
   "outputs": [
    {
     "name": "stdout",
     "output_type": "stream",
     "text": [
      "good and based\n"
     ]
    }
   ],
   "source": [
    "# a single if statement with an else if (elif)\n",
    "# will parse the condition,\n",
    "# check the second condition in the elif\n",
    "# if both are not true, it will go to the else action\n",
    "if beverage_of_choice == 'monster':\n",
    "    print('oof')\n",
    "elif beverage_of_choice == 'coffee':\n",
    "    print('good and based')\n",
    "else:\n",
    "    print('well what are you drinking then')"
   ]
  },
  {
   "cell_type": "markdown",
   "id": "ce0654db",
   "metadata": {},
   "source": [
    "## Loops:\n",
    "### Two main flavors: for and while"
   ]
  },
  {
   "cell_type": "code",
   "execution_count": 28,
   "id": "f2c33c43",
   "metadata": {},
   "outputs": [],
   "source": [
    "# basic for loop structure:\n",
    "\n",
    "# get an iterable\n",
    "# get a range, a list of values, etc. something we can flip through.\n",
    "\n",
    "# determine a name for how you iterate.\n",
    "# for ____ in your iterable\n",
    "\n",
    "# determine an action\n",
    "# it will happen once each cycle of the list"
   ]
  },
  {
   "cell_type": "code",
   "execution_count": 29,
   "id": "f7080e06",
   "metadata": {},
   "outputs": [],
   "source": [
    "# initialize and assign a list.  this will be an iterable\n",
    "my_little_list = ['coffee',\n",
    "                 'monster',\n",
    "                 'water',\n",
    "                 'tea']\n"
   ]
  },
  {
   "cell_type": "code",
   "execution_count": 30,
   "id": "a0afc21d",
   "metadata": {},
   "outputs": [
    {
     "data": {
      "text/plain": [
       "'coffee'"
      ]
     },
     "execution_count": 30,
     "metadata": {},
     "output_type": "execute_result"
    }
   ],
   "source": [
    "# reference the first element of the list\n",
    "my_little_list[0]"
   ]
  },
  {
   "cell_type": "code",
   "execution_count": 31,
   "id": "4af1aa35",
   "metadata": {},
   "outputs": [],
   "source": [
    "# step one: do a thing\n",
    "my_morning_routine = 'drink ' + my_little_list[0]"
   ]
  },
  {
   "cell_type": "code",
   "execution_count": 32,
   "id": "d0a46f83",
   "metadata": {},
   "outputs": [
    {
     "data": {
      "text/plain": [
       "'drink coffee'"
      ]
     },
     "execution_count": 32,
     "metadata": {},
     "output_type": "execute_result"
    }
   ],
   "source": [
    "my_morning_routine"
   ]
  },
  {
   "cell_type": "code",
   "execution_count": 33,
   "id": "826d98bc",
   "metadata": {},
   "outputs": [],
   "source": [
    "# step two: do the thing again\n",
    "my_morning_routine = 'drink ' + my_little_list[1]"
   ]
  },
  {
   "cell_type": "code",
   "execution_count": null,
   "id": "b10a2feb",
   "metadata": {},
   "outputs": [],
   "source": [
    "# takeaway: we need to change the index in the list,\n",
    "# the action we are taking is concatenating 'drink '"
   ]
  },
  {
   "cell_type": "code",
   "execution_count": 34,
   "id": "d8c35d99",
   "metadata": {},
   "outputs": [
    {
     "data": {
      "text/plain": [
       "'drink monster'"
      ]
     },
     "execution_count": 34,
     "metadata": {},
     "output_type": "execute_result"
    }
   ],
   "source": [
    "my_morning_routine"
   ]
  },
  {
   "cell_type": "code",
   "execution_count": 35,
   "id": "a211e3f3",
   "metadata": {},
   "outputs": [
    {
     "data": {
      "text/plain": [
       "2"
      ]
     },
     "execution_count": 35,
     "metadata": {},
     "output_type": "execute_result"
    }
   ],
   "source": [
    "# quick note on jupyter notebooks:\n",
    "# unlike a .py script, we get feedback output on returns\n",
    "# from expressions and statements\n",
    "1 + 1"
   ]
  },
  {
   "cell_type": "code",
   "execution_count": 36,
   "id": "acb21e3e",
   "metadata": {},
   "outputs": [
    {
     "data": {
      "text/plain": [
       "10"
      ]
     },
     "execution_count": 36,
     "metadata": {},
     "output_type": "execute_result"
    }
   ],
   "source": [
    "# if we have two statements or expressions,\n",
    "# we will only see the last line.\n",
    "3 + 4\n",
    "5 + 5"
   ]
  },
  {
   "cell_type": "code",
   "execution_count": 37,
   "id": "93a37760",
   "metadata": {},
   "outputs": [
    {
     "name": "stdout",
     "output_type": "stream",
     "text": [
      "hi\n"
     ]
    },
    {
     "data": {
      "text/plain": [
       "10"
      ]
     },
     "execution_count": 37,
     "metadata": {},
     "output_type": "execute_result"
    }
   ],
   "source": [
    "# if we have two statements or expressions,\n",
    "# we will only see the last line.\n",
    "# this is different frome expressly writing a print to console.\n",
    "3 + 4\n",
    "print('hi')\n",
    "5 + 5"
   ]
  },
  {
   "cell_type": "code",
   "execution_count": 38,
   "id": "8efee99d",
   "metadata": {},
   "outputs": [],
   "source": [
    "# building out a for loop:\n",
    "#  What action do I want to do?\n",
    "# How may I want to repeat that action?\n",
    "\n",
    "\n",
    "# How to write a loop:\n",
    "# 1. Do a thing\n",
    "# 2. Do that thing again\n",
    "# 3. Put it in a loop"
   ]
  },
  {
   "cell_type": "code",
   "execution_count": 39,
   "id": "ea273082",
   "metadata": {},
   "outputs": [
    {
     "name": "stdout",
     "output_type": "stream",
     "text": [
      "coffee\n",
      "monster\n",
      "water\n",
      "tea\n"
     ]
    }
   ],
   "source": [
    "# putting it in a loop\n",
    "for i in my_little_list:\n",
    "    print(i)"
   ]
  },
  {
   "cell_type": "code",
   "execution_count": 44,
   "id": "b14141e8",
   "metadata": {},
   "outputs": [
    {
     "name": "stdout",
     "output_type": "stream",
     "text": [
      "i:  0\n",
      "thing:  coffee\n",
      "------\n",
      "i:  1\n",
      "thing:  monster\n",
      "------\n",
      "i:  2\n",
      "thing:  water\n",
      "------\n",
      "i:  3\n",
      "thing:  tea\n",
      "------\n"
     ]
    }
   ],
   "source": [
    "for i, thing in enumerate(my_little_list):\n",
    "    print('i: ', i)\n",
    "    print('thing: ', thing)\n",
    "    print('------')"
   ]
  },
  {
   "cell_type": "code",
   "execution_count": 47,
   "id": "0b50a8d5",
   "metadata": {},
   "outputs": [
    {
     "name": "stdout",
     "output_type": "stream",
     "text": [
      "hamsandwich:  3\n",
      "pizza:  tea\n",
      "------\n",
      "hamsandwich:  3\n",
      "pizza:  tea\n",
      "------\n",
      "hamsandwich:  3\n",
      "pizza:  tea\n",
      "------\n",
      "hamsandwich:  3\n",
      "pizza:  tea\n",
      "------\n"
     ]
    }
   ],
   "source": [
    "for hamsandwich, pizza in enumerate(my_little_list):\n",
    "    print('hamsandwich: ', i)\n",
    "    print('pizza: ', thing)\n",
    "    print('------')"
   ]
  },
  {
   "cell_type": "code",
   "execution_count": 48,
   "id": "c682a52f",
   "metadata": {},
   "outputs": [
    {
     "data": {
      "text/plain": [
       "'tea'"
      ]
     },
     "execution_count": 48,
     "metadata": {},
     "output_type": "execute_result"
    }
   ],
   "source": [
    "thing"
   ]
  },
  {
   "cell_type": "code",
   "execution_count": 50,
   "id": "81e7c708",
   "metadata": {},
   "outputs": [],
   "source": [
    "# for every element in my list:\n",
    "# that is to say: coffee, monster, etc\n",
    "# concatenate 'drink ' to that element\n",
    "# do it for every element until i run out of things\n",
    "for bev in my_little_list:\n",
    "    my_morning_routine = 'drink ' + bev\n",
    "    "
   ]
  },
  {
   "cell_type": "code",
   "execution_count": 51,
   "id": "b49dda00",
   "metadata": {
    "scrolled": true
   },
   "outputs": [
    {
     "data": {
      "text/plain": [
       "'drink tea'"
      ]
     },
     "execution_count": 51,
     "metadata": {},
     "output_type": "execute_result"
    }
   ],
   "source": [
    "my_morning_routine"
   ]
  },
  {
   "cell_type": "code",
   "execution_count": 53,
   "id": "5e8f71b4",
   "metadata": {},
   "outputs": [
    {
     "data": {
      "text/plain": [
       "'drink tea'"
      ]
     },
     "execution_count": 53,
     "metadata": {},
     "output_type": "execute_result"
    }
   ],
   "source": [
    "my_morning_routine"
   ]
  },
  {
   "cell_type": "code",
   "execution_count": 56,
   "id": "0e6eae73",
   "metadata": {},
   "outputs": [
    {
     "name": "stdout",
     "output_type": "stream",
     "text": [
      "bev is currently: coffee\n",
      "we are now moving to the next element\n",
      "bev is currently: monster\n",
      "we are now moving to the next element\n",
      "bev is currently: water\n",
      "we are now moving to the next element\n",
      "bev is currently: tea\n",
      "we are now moving to the next element\n",
      "we finished looping\n"
     ]
    }
   ],
   "source": [
    "# for every element in my list:\n",
    "# that is to say: coffee, monster, etc\n",
    "# concatenate 'drink ' to that element\n",
    "# do it for every element until i run out of things\n",
    "\n",
    "# start with initializing an \n",
    "# empty list called my_morning_routines\n",
    "my_morning_routines =[]\n",
    "# we will cycle through the loop the same way\n",
    "for bev in my_little_list:\n",
    "    print(f'bev is currently: {bev}')\n",
    "    my_morning_routines.append('drink ' + bev)\n",
    "    print('we are now moving to the next element')\n",
    "print('we finished looping')"
   ]
  },
  {
   "cell_type": "code",
   "execution_count": 55,
   "id": "fb70baba",
   "metadata": {},
   "outputs": [
    {
     "data": {
      "text/plain": [
       "['drink coffee', 'drink monster', 'drink water', 'drink tea']"
      ]
     },
     "execution_count": 55,
     "metadata": {},
     "output_type": "execute_result"
    }
   ],
   "source": [
    "my_morning_routines"
   ]
  },
  {
   "cell_type": "code",
   "execution_count": 64,
   "id": "a6cd4476",
   "metadata": {},
   "outputs": [
    {
     "data": {
      "text/plain": [
       "[5, 15, 25, 35, 45]"
      ]
     },
     "execution_count": 64,
     "metadata": {},
     "output_type": "execute_result"
    }
   ],
   "source": [
    "my_new_numbers"
   ]
  },
  {
   "cell_type": "code",
   "execution_count": 63,
   "id": "889ac28e",
   "metadata": {},
   "outputs": [],
   "source": [
    "# lets do it with numbers:\n",
    "my_new_numbers = []\n",
    "\n",
    "for i in range(1,10, 2):\n",
    "    x = i * 5\n",
    "    my_new_numbers.append(x)"
   ]
  },
  {
   "cell_type": "code",
   "execution_count": 62,
   "id": "b87d0679",
   "metadata": {},
   "outputs": [],
   "source": [
    "range?"
   ]
  },
  {
   "cell_type": "code",
   "execution_count": 65,
   "id": "c772a559",
   "metadata": {},
   "outputs": [
    {
     "name": "stdout",
     "output_type": "stream",
     "text": [
      "Help on class range in module builtins:\n",
      "\n",
      "class range(object)\n",
      " |  range(stop) -> range object\n",
      " |  range(start, stop[, step]) -> range object\n",
      " |  \n",
      " |  Return an object that produces a sequence of integers from start (inclusive)\n",
      " |  to stop (exclusive) by step.  range(i, j) produces i, i+1, i+2, ..., j-1.\n",
      " |  start defaults to 0, and stop is omitted!  range(4) produces 0, 1, 2, 3.\n",
      " |  These are exactly the valid indices for a list of 4 elements.\n",
      " |  When step is given, it specifies the increment (or decrement).\n",
      " |  \n",
      " |  Methods defined here:\n",
      " |  \n",
      " |  __bool__(self, /)\n",
      " |      self != 0\n",
      " |  \n",
      " |  __contains__(self, key, /)\n",
      " |      Return key in self.\n",
      " |  \n",
      " |  __eq__(self, value, /)\n",
      " |      Return self==value.\n",
      " |  \n",
      " |  __ge__(self, value, /)\n",
      " |      Return self>=value.\n",
      " |  \n",
      " |  __getattribute__(self, name, /)\n",
      " |      Return getattr(self, name).\n",
      " |  \n",
      " |  __getitem__(self, key, /)\n",
      " |      Return self[key].\n",
      " |  \n",
      " |  __gt__(self, value, /)\n",
      " |      Return self>value.\n",
      " |  \n",
      " |  __hash__(self, /)\n",
      " |      Return hash(self).\n",
      " |  \n",
      " |  __iter__(self, /)\n",
      " |      Implement iter(self).\n",
      " |  \n",
      " |  __le__(self, value, /)\n",
      " |      Return self<=value.\n",
      " |  \n",
      " |  __len__(self, /)\n",
      " |      Return len(self).\n",
      " |  \n",
      " |  __lt__(self, value, /)\n",
      " |      Return self<value.\n",
      " |  \n",
      " |  __ne__(self, value, /)\n",
      " |      Return self!=value.\n",
      " |  \n",
      " |  __reduce__(...)\n",
      " |      Helper for pickle.\n",
      " |  \n",
      " |  __repr__(self, /)\n",
      " |      Return repr(self).\n",
      " |  \n",
      " |  __reversed__(...)\n",
      " |      Return a reverse iterator.\n",
      " |  \n",
      " |  count(...)\n",
      " |      rangeobject.count(value) -> integer -- return number of occurrences of value\n",
      " |  \n",
      " |  index(...)\n",
      " |      rangeobject.index(value) -> integer -- return index of value.\n",
      " |      Raise ValueError if the value is not present.\n",
      " |  \n",
      " |  ----------------------------------------------------------------------\n",
      " |  Static methods defined here:\n",
      " |  \n",
      " |  __new__(*args, **kwargs) from builtins.type\n",
      " |      Create and return a new object.  See help(type) for accurate signature.\n",
      " |  \n",
      " |  ----------------------------------------------------------------------\n",
      " |  Data descriptors defined here:\n",
      " |  \n",
      " |  start\n",
      " |  \n",
      " |  step\n",
      " |  \n",
      " |  stop\n",
      "\n"
     ]
    }
   ],
   "source": [
    "help(range)"
   ]
  },
  {
   "cell_type": "markdown",
   "id": "b96b4d7b",
   "metadata": {},
   "source": [
    "### break and continue:"
   ]
  },
  {
   "cell_type": "code",
   "execution_count": 66,
   "id": "1a85697c",
   "metadata": {},
   "outputs": [],
   "source": [
    "# break: will stop a loop in its tracks and exit\n",
    "# continue: go forward into the next iteration."
   ]
  },
  {
   "cell_type": "code",
   "execution_count": 69,
   "id": "351c0fbc",
   "metadata": {},
   "outputs": [],
   "source": [
    "for i in range(5, 100):\n",
    "    if i > 4:\n",
    "        break\n",
    "    print(i)"
   ]
  },
  {
   "cell_type": "code",
   "execution_count": 71,
   "id": "7d49bee8",
   "metadata": {
    "scrolled": false
   },
   "outputs": [
    {
     "name": "stdout",
     "output_type": "stream",
     "text": [
      "1\n",
      "2\n",
      "3\n",
      "2\n"
     ]
    }
   ],
   "source": [
    "for i in [1, 2, 3, 2]:\n",
    "    if i > 4:\n",
    "        break\n",
    "    print(i)"
   ]
  },
  {
   "cell_type": "code",
   "execution_count": 80,
   "id": "abf8286c",
   "metadata": {},
   "outputs": [
    {
     "name": "stdout",
     "output_type": "stream",
     "text": [
      "i:  1\n",
      "False\n",
      "we are here\n",
      "x:  5\n",
      "i:  3\n",
      "True\n",
      "i:  5\n",
      "True\n",
      "i:  7\n",
      "True\n",
      "i:  9\n",
      "False\n",
      "we are here\n",
      "x:  45\n"
     ]
    }
   ],
   "source": [
    "# lets do it with numbers:\n",
    "my_new_numbers = []\n",
    "\n",
    "for i in range(1,10, 2):\n",
    "    # we are living in each iteration of the loop\n",
    "    print('i: ', i)\n",
    "    #every iteration of the loop has an i\n",
    "    #my_bool gets a truth assessing if i is in the middle nums\n",
    "    my_bool = i in [3,5,7]\n",
    "    print(my_bool)\n",
    "    #if that bool is true, go up to the next iteration\n",
    "    # continue means *go to the next iteration NOW*\n",
    "    # not do the rest of the things under\n",
    "    if my_bool:\n",
    "        continue\n",
    "    #if its not true, do this next stuff\n",
    "    x = i * 5\n",
    "    print('we are here')\n",
    "    print('x: ', x)\n",
    "    my_new_numbers.append(x)"
   ]
  },
  {
   "cell_type": "code",
   "execution_count": 81,
   "id": "f53c9cd8",
   "metadata": {},
   "outputs": [
    {
     "data": {
      "text/plain": [
       "[5, 45]"
      ]
     },
     "execution_count": 81,
     "metadata": {},
     "output_type": "execute_result"
    }
   ],
   "source": [
    "my_new_numbers"
   ]
  },
  {
   "cell_type": "code",
   "execution_count": 76,
   "id": "0a7274b1",
   "metadata": {},
   "outputs": [
    {
     "data": {
      "text/plain": [
       "False"
      ]
     },
     "execution_count": 76,
     "metadata": {},
     "output_type": "execute_result"
    }
   ],
   "source": [
    "10 in [1,3,5,7,9]"
   ]
  },
  {
   "cell_type": "code",
   "execution_count": 82,
   "id": "fe410e59",
   "metadata": {},
   "outputs": [],
   "source": [
    "# While loops:\n",
    "# \n",
    "# while loop structure:\n",
    "\n",
    "# a condition with a statement of truth\n",
    "# this condition acts an on/off switch\n",
    "\n",
    "# \n",
    "# thereby: do an action as long as that condition is true"
   ]
  },
  {
   "cell_type": "code",
   "execution_count": 84,
   "id": "e2c0bae4",
   "metadata": {},
   "outputs": [
    {
     "name": "stdout",
     "output_type": "stream",
     "text": [
      "4\n",
      "------\n",
      "14\n",
      "------\n",
      "24\n",
      "------\n",
      "34\n",
      "------\n",
      "44\n",
      "------\n",
      "54\n",
      "------\n",
      "64\n",
      "------\n",
      "74\n",
      "------\n",
      "84\n",
      "------\n",
      "94\n",
      "------\n"
     ]
    }
   ],
   "source": [
    "x = 4\n",
    "\n",
    "while x < 100:\n",
    "    print(x)\n",
    "    print('------')\n",
    "    x += 10"
   ]
  },
  {
   "cell_type": "code",
   "execution_count": 85,
   "id": "15a82f37",
   "metadata": {},
   "outputs": [
    {
     "data": {
      "text/plain": [
       "104"
      ]
     },
     "execution_count": 85,
     "metadata": {},
     "output_type": "execute_result"
    }
   ],
   "source": [
    "x"
   ]
  },
  {
   "cell_type": "code",
   "execution_count": 86,
   "id": "868bd1d3",
   "metadata": {},
   "outputs": [
    {
     "name": "stdout",
     "output_type": "stream",
     "text": [
      "hey user put something herethis is input\n"
     ]
    },
    {
     "data": {
      "text/plain": [
       "'this is input'"
      ]
     },
     "execution_count": 86,
     "metadata": {},
     "output_type": "execute_result"
    }
   ],
   "source": [
    "input('hey user put something here')"
   ]
  },
  {
   "cell_type": "code",
   "execution_count": 89,
   "id": "539e38b5",
   "metadata": {},
   "outputs": [
    {
     "name": "stdout",
     "output_type": "stream",
     "text": [
      "hey user put something here5\n"
     ]
    }
   ],
   "source": [
    "my_input_var = input('hey user put something here')"
   ]
  },
  {
   "cell_type": "code",
   "execution_count": 90,
   "id": "d7b9c2d0",
   "metadata": {},
   "outputs": [
    {
     "data": {
      "text/plain": [
       "'5'"
      ]
     },
     "execution_count": 90,
     "metadata": {},
     "output_type": "execute_result"
    }
   ],
   "source": [
    "my_input_var"
   ]
  },
  {
   "cell_type": "code",
   "execution_count": null,
   "id": "542d6b3f",
   "metadata": {},
   "outputs": [],
   "source": []
  }
 ],
 "metadata": {
  "kernelspec": {
   "display_name": "Python 3",
   "language": "python",
   "name": "python3"
  },
  "language_info": {
   "codemirror_mode": {
    "name": "ipython",
    "version": 3
   },
   "file_extension": ".py",
   "mimetype": "text/x-python",
   "name": "python",
   "nbconvert_exporter": "python",
   "pygments_lexer": "ipython3",
   "version": "3.9.4"
  }
 },
 "nbformat": 4,
 "nbformat_minor": 5
}
