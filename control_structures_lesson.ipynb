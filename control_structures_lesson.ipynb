{
 "cells": [
  {
   "cell_type": "code",
   "execution_count": 1,
   "id": "231e8cc4",
   "metadata": {},
   "outputs": [],
   "source": [
    "# If Statements:\n",
    "# If True, do thing.\n",
    "# \n",
    "# \n",
    "# "
   ]
  },
  {
   "cell_type": "code",
   "execution_count": 2,
   "id": "297555d4",
   "metadata": {},
   "outputs": [
    {
     "name": "stdout",
     "output_type": "stream",
     "text": [
      "hi!\n"
     ]
    }
   ],
   "source": [
    "if True:\n",
    "    print('hi!')"
   ]
  },
  {
   "cell_type": "code",
   "execution_count": 3,
   "id": "c8fdc28c",
   "metadata": {},
   "outputs": [],
   "source": [
    "if False:\n",
    "    print('hi!')"
   ]
  },
  {
   "cell_type": "code",
   "execution_count": 4,
   "id": "121f7d09",
   "metadata": {},
   "outputs": [],
   "source": [
    "# else, elif:\n",
    "# if the parameters of my first things dont work, \n",
    "# do another thing"
   ]
  },
  {
   "cell_type": "code",
   "execution_count": 5,
   "id": "3b8ebb9a",
   "metadata": {},
   "outputs": [
    {
     "name": "stdout",
     "output_type": "stream",
     "text": [
      "yes its tuesday\n"
     ]
    }
   ],
   "source": [
    "is_tuesday = True\n",
    "\n",
    "if is_tuesday:\n",
    "    print('yes its tuesday')"
   ]
  },
  {
   "cell_type": "code",
   "execution_count": 6,
   "id": "c5ea26a5",
   "metadata": {},
   "outputs": [],
   "source": [
    "day_of_week = 'tuesday'"
   ]
  },
  {
   "cell_type": "code",
   "execution_count": 7,
   "id": "e8908395",
   "metadata": {
    "scrolled": true
   },
   "outputs": [
    {
     "name": "stdout",
     "output_type": "stream",
     "text": [
      "that's today!\n"
     ]
    }
   ],
   "source": [
    "if day_of_week == 'tuesday':\n",
    "    print('that\\'s today!')\n",
    "else:\n",
    "    print('more boring day')"
   ]
  },
  {
   "cell_type": "code",
   "execution_count": null,
   "id": "9169461a",
   "metadata": {},
   "outputs": [],
   "source": []
  },
  {
   "cell_type": "code",
   "execution_count": 8,
   "id": "c00f5b1f",
   "metadata": {},
   "outputs": [],
   "source": [
    "day_of_week = 'wednesday'"
   ]
  },
  {
   "cell_type": "code",
   "execution_count": 9,
   "id": "53ab9a9e",
   "metadata": {},
   "outputs": [
    {
     "name": "stdout",
     "output_type": "stream",
     "text": [
      "more boring day\n"
     ]
    }
   ],
   "source": [
    "if day_of_week == 'tuesday':\n",
    "    print('that\\'s today!')\n",
    "else:\n",
    "    print('more boring day')"
   ]
  },
  {
   "cell_type": "code",
   "execution_count": 10,
   "id": "d237b53f",
   "metadata": {},
   "outputs": [],
   "source": [
    "# more complex: elif"
   ]
  },
  {
   "cell_type": "code",
   "execution_count": 12,
   "id": "cdbe6ed9",
   "metadata": {},
   "outputs": [],
   "source": [
    "day_of_week = 'tuesday'"
   ]
  },
  {
   "cell_type": "code",
   "execution_count": 18,
   "id": "0991c0e2",
   "metadata": {},
   "outputs": [],
   "source": [
    "second_thing = 'nearly_fiveish'"
   ]
  },
  {
   "cell_type": "code",
   "execution_count": 15,
   "id": "da76e2af",
   "metadata": {},
   "outputs": [
    {
     "name": "stdout",
     "output_type": "stream",
     "text": [
      "thats today!\n",
      "dismiss\n"
     ]
    }
   ],
   "source": [
    "if day_of_week == 'tuesday':\n",
    "    print('thats today!')\n",
    "elif day_of_week == 'wednesday':\n",
    "    print('tomorrow!')\n",
    "if second_thing == 'nearly_five':\n",
    "    print('dismiss')\n",
    "elif day_of_week == 'monday':\n",
    "    print('garfield')\n",
    "else:\n",
    "    'what day is it???'"
   ]
  },
  {
   "cell_type": "code",
   "execution_count": 21,
   "id": "b991d0d8",
   "metadata": {},
   "outputs": [
    {
     "name": "stdout",
     "output_type": "stream",
     "text": [
      "what day is it???\n"
     ]
    }
   ],
   "source": [
    "if day_of_week == 'tuesday' and second_thing == 'nearly_five':\n",
    "    print('thats today!')\n",
    "elif day_of_week == 'wednesday':\n",
    "    print('tomorrow!')\n",
    "elif day_of_week == 'monday':\n",
    "    print('garfield')\n",
    "else:\n",
    "    print('what day is it???')"
   ]
  },
  {
   "cell_type": "code",
   "execution_count": 17,
   "id": "058ae93e",
   "metadata": {},
   "outputs": [
    {
     "name": "stdout",
     "output_type": "stream",
     "text": [
      "thats today!\n"
     ]
    }
   ],
   "source": [
    "if day_of_week == 'tuesday':\n",
    "    print('thats today!')\n",
    "elif second_thing == 'nearly_five':\n",
    "    print('dismiss')\n",
    "elif day_of_week == 'monday':\n",
    "    print('garfield')\n",
    "else:\n",
    "    'what day is it???'"
   ]
  },
  {
   "cell_type": "code",
   "execution_count": null,
   "id": "13461140",
   "metadata": {},
   "outputs": [],
   "source": []
  }
 ],
 "metadata": {
  "kernelspec": {
   "display_name": "Python 3",
   "language": "python",
   "name": "python3"
  },
  "language_info": {
   "codemirror_mode": {
    "name": "ipython",
    "version": 3
   },
   "file_extension": ".py",
   "mimetype": "text/x-python",
   "name": "python",
   "nbconvert_exporter": "python",
   "pygments_lexer": "ipython3",
   "version": "3.9.4"
  }
 },
 "nbformat": 4,
 "nbformat_minor": 5
}
