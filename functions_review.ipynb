{
 "cells": [
  {
   "cell_type": "markdown",
   "id": "fitting-reunion",
   "metadata": {},
   "source": [
    "# Functions Exercises"
   ]
  },
  {
   "cell_type": "code",
   "execution_count": null,
   "id": "a58e0c09",
   "metadata": {},
   "outputs": [],
   "source": [
    "# two true cases:\n",
    "2, '2'"
   ]
  },
  {
   "cell_type": "code",
   "execution_count": 2,
   "id": "wound-clarity",
   "metadata": {},
   "outputs": [],
   "source": [
    "# Exercise 1\n",
    "# Define a function named is_two. \n",
    "# It should accept one input and return True if \n",
    "# the passed input is either the number or the string 2, \n",
    "# False otherwise.\n",
    "def is_two(n):\n",
    "    return n == 2 or n == '2'\n",
    "    \n",
    "    \n",
    "    \n",
    "# assert actual value == expected value\n",
    "assert is_two(2) == True\n",
    "assert is_two(2.0) == True\n",
    "assert is_two(\"2\") == True\n",
    "assert is_two(5) == False\n",
    "assert is_two(10) == False\n",
    "assert is_two(\"coffee\") == False"
   ]
  },
  {
   "cell_type": "code",
   "execution_count": 6,
   "id": "ab525c19",
   "metadata": {},
   "outputs": [
    {
     "data": {
      "text/plain": [
       "['a', 'e', 'i', 'o', 'u']"
      ]
     },
     "execution_count": 6,
     "metadata": {},
     "output_type": "execute_result"
    }
   ],
   "source": [
    "list('aeiou')"
   ]
  },
  {
   "cell_type": "code",
   "execution_count": 8,
   "id": "f1c90780",
   "metadata": {},
   "outputs": [
    {
     "data": {
      "text/plain": [
       "True"
      ]
     },
     "execution_count": 8,
     "metadata": {},
     "output_type": "execute_result"
    }
   ],
   "source": [
    "'a' in list('aeiou')"
   ]
  },
  {
   "cell_type": "code",
   "execution_count": 10,
   "id": "c9f551c7",
   "metadata": {},
   "outputs": [
    {
     "data": {
      "text/plain": [
       "5"
      ]
     },
     "execution_count": 10,
     "metadata": {},
     "output_type": "execute_result"
    }
   ],
   "source": [
    "len('hello')"
   ]
  },
  {
   "cell_type": "code",
   "execution_count": 13,
   "id": "0b30356f",
   "metadata": {},
   "outputs": [],
   "source": [
    "# Exercise 2\n",
    "# Define a function named is_vowel. \n",
    "# It should return True if the passed string is a vowel, \n",
    "# False otherwise.\n",
    "def is_vowel(somestring):\n",
    "    if type(somestring) == str:\n",
    "        if len(somestring) == 1:\n",
    "            return somestring.lower() in list('aeiou')\n",
    "        else:\n",
    "            return False\n",
    "    else:\n",
    "        return False"
   ]
  },
  {
   "cell_type": "code",
   "execution_count": 12,
   "id": "f589a209",
   "metadata": {},
   "outputs": [],
   "source": [
    "is_vowel('aeiou')"
   ]
  },
  {
   "cell_type": "code",
   "execution_count": 14,
   "id": "fitting-hotel",
   "metadata": {},
   "outputs": [],
   "source": [
    "        \n",
    "    \n",
    "assert is_vowel(\"A\") == True\n",
    "assert is_vowel(\"E\") == True\n",
    "assert is_vowel(\"I\") == True\n",
    "assert is_vowel(\"O\") == True\n",
    "assert is_vowel(\"y\") == False\n",
    "assert is_vowel(\"aeiou\") == False # since the entire string aint a vowel\n",
    "assert is_vowel(\"p\") == False\n",
    "assert is_vowel([1, 2, 3]) == False\n",
    "assert is_vowel(2) == False"
   ]
  },
  {
   "cell_type": "code",
   "execution_count": 19,
   "id": "4c460207",
   "metadata": {},
   "outputs": [],
   "source": [
    "# Exercise 3\n",
    "# Define a function named is_consonant.\n",
    "# It should return True if the passed string is a consonant, \n",
    "# False otherwise. Use your is_vowel function to accomplish this.\n",
    "\n",
    "\n",
    "# seen previously: isdigit()\n",
    "\n",
    "def is_consonant(somestring):\n",
    "    if type(somestring) == str:\n",
    "        if len(somestring) == 1 and somestring.isalpha():\n",
    "            return (not is_vowel(somestring))\n",
    "        else:\n",
    "            return False\n",
    "    else:\n",
    "        return False"
   ]
  },
  {
   "cell_type": "code",
   "execution_count": 21,
   "id": "affecting-repair",
   "metadata": {},
   "outputs": [],
   "source": [
    "assert is_consonant(\"B\") == True\n",
    "assert is_consonant(\"y\") == True\n",
    "assert is_consonant(\"A\") == False\n",
    "assert is_consonant(\"E\") == False\n",
    "assert is_consonant(\"I\") == False\n",
    "assert is_consonant(\"O\") == False\n",
    "assert is_consonant(\"1\") == False\n",
    "assert is_consonant(\"2\") == False\n",
    "assert is_consonant(\"*\") == False\n",
    "assert is_consonant(\"+\") == False\n",
    "assert is_consonant([3, 4]) == False"
   ]
  },
  {
   "cell_type": "code",
   "execution_count": 22,
   "id": "368ed8db",
   "metadata": {},
   "outputs": [],
   "source": [
    "str.capitalize?"
   ]
  },
  {
   "cell_type": "code",
   "execution_count": 23,
   "id": "3cd07958",
   "metadata": {},
   "outputs": [
    {
     "data": {
      "text/plain": [
       "'Hello'"
      ]
     },
     "execution_count": 23,
     "metadata": {},
     "output_type": "execute_result"
    }
   ],
   "source": [
    "'hello'.capitalize()"
   ]
  },
  {
   "cell_type": "code",
   "execution_count": 24,
   "id": "e72537ba",
   "metadata": {},
   "outputs": [
    {
     "data": {
      "text/plain": [
       "True"
      ]
     },
     "execution_count": 24,
     "metadata": {},
     "output_type": "execute_result"
    }
   ],
   "source": [
    "'a' in 'aeiou'"
   ]
  },
  {
   "cell_type": "code",
   "execution_count": 25,
   "id": "61742fb7",
   "metadata": {},
   "outputs": [
    {
     "data": {
      "text/plain": [
       "'h'"
      ]
     },
     "execution_count": 25,
     "metadata": {},
     "output_type": "execute_result"
    }
   ],
   "source": [
    "'hello'[0]"
   ]
  },
  {
   "cell_type": "code",
   "execution_count": null,
   "id": "687dba72",
   "metadata": {},
   "outputs": [],
   "source": [
    "# somestring == somestring.replace(' ', '')"
   ]
  },
  {
   "cell_type": "code",
   "execution_count": 26,
   "id": "martial-illustration",
   "metadata": {},
   "outputs": [],
   "source": [
    "# Exercise 4\n",
    "# Define a function that accepts a string that is a word. \n",
    "# The function should capitalize the \n",
    "# first letter of the word if the word starts with a consonant.\n",
    "def capitalize_starting_consonant(somestring):\n",
    "    if type(somestring) == str:\n",
    "        if is_consonant(somestring[0]):\n",
    "            return somestring.capitalize()\n",
    "        else:\n",
    "            return somestring\n",
    "    else:\n",
    "        return somestring\n",
    "    \n",
    "    \n",
    "    \n",
    "assert capitalize_starting_consonant(\"coffee\") == \"Coffee\"\n",
    "assert capitalize_starting_consonant(\"another string\") == \"another string\""
   ]
  },
  {
   "cell_type": "code",
   "execution_count": null,
   "id": "8a38af16",
   "metadata": {},
   "outputs": [],
   "source": [
    "capitalize_starting_consonant(12345)"
   ]
  },
  {
   "cell_type": "code",
   "execution_count": 28,
   "id": "whole-forum",
   "metadata": {},
   "outputs": [],
   "source": [
    "# Exercise 5\n",
    "# Define a function named calculate_tip. \n",
    "# It should accept a tip percentage \n",
    "# (a number between 0 and 1) and the bill total, \n",
    "# and return the amount to tip.\n",
    "def calculate_tip(bill, tip_amt=0.2):\n",
    "    return bill * tip_amt\n",
    "    \n",
    "\n",
    "assert calculate_tip(100.00) == 20\n",
    "assert calculate_tip(100.00, .3) == 30"
   ]
  },
  {
   "cell_type": "code",
   "execution_count": 29,
   "id": "expected-conspiracy",
   "metadata": {},
   "outputs": [],
   "source": [
    "# Exercise 6\n",
    "# Define a function named apply_discount. \n",
    "# It should accept a original price, and a discount percentage, \n",
    "# and return the price after the discount is applied.\n",
    "def apply_discount(orig_price, discount=0.0):\n",
    "    return orig_price - orig_price*discount\n",
    "    \n",
    "\n",
    "assert apply_discount(20, .5) == 10"
   ]
  },
  {
   "cell_type": "code",
   "execution_count": null,
   "id": "b51447ad",
   "metadata": {},
   "outputs": [],
   "source": [
    "# apply_discount = lambda price: price - (price * .10)"
   ]
  },
  {
   "cell_type": "code",
   "execution_count": 31,
   "id": "2eeead6b",
   "metadata": {},
   "outputs": [],
   "source": [
    "thisguyhere = '12,345'"
   ]
  },
  {
   "cell_type": "code",
   "execution_count": 32,
   "id": "a35c2a92",
   "metadata": {},
   "outputs": [
    {
     "data": {
      "text/plain": [
       "(12, 456)"
      ]
     },
     "execution_count": 32,
     "metadata": {},
     "output_type": "execute_result"
    }
   ],
   "source": [
    "12,456"
   ]
  },
  {
   "cell_type": "code",
   "execution_count": 33,
   "id": "2f466c6a",
   "metadata": {},
   "outputs": [
    {
     "data": {
      "text/plain": [
       "12456"
      ]
     },
     "execution_count": 33,
     "metadata": {},
     "output_type": "execute_result"
    }
   ],
   "source": [
    "12_456"
   ]
  },
  {
   "cell_type": "code",
   "execution_count": null,
   "id": "0e05ec74",
   "metadata": {},
   "outputs": [],
   "source": []
  },
  {
   "cell_type": "code",
   "execution_count": 34,
   "id": "0ca91d51",
   "metadata": {},
   "outputs": [
    {
     "data": {
      "text/plain": [
       "'hallo'"
      ]
     },
     "execution_count": 34,
     "metadata": {},
     "output_type": "execute_result"
    }
   ],
   "source": [
    "# new string method just dropped: replace\n",
    "'hello'.replace('e', 'a')"
   ]
  },
  {
   "cell_type": "code",
   "execution_count": 37,
   "id": "comparative-bridge",
   "metadata": {},
   "outputs": [],
   "source": [
    "# Exercise 7\n",
    "# Define a function named handle_commas. \n",
    "# It should accept a string that is a number that contains \n",
    "# commas in it as input, \n",
    "# and return a number as output.\n",
    "def handle_commas(fakenum):\n",
    "    if type(fakenum) == str:\n",
    "        return int(fakenum.replace(',',''))\n",
    "    else:\n",
    "        return fakenum\n",
    "    \n",
    "\n",
    "assert handle_commas(\"1,234\") == 1234\n",
    "assert handle_commas(\"1,234,456\") == 1234456\n",
    "assert handle_commas(\"1,234,456\") == 1234456"
   ]
  },
  {
   "cell_type": "code",
   "execution_count": 38,
   "id": "finished-perfume",
   "metadata": {},
   "outputs": [],
   "source": [
    "# Exercise 8\n",
    "# Define a function named get_letter_grade. \n",
    "# It should accept a number and return the letter grade \n",
    "# associated with that number (A-F).\n",
    "\n",
    "# assumptions:\n",
    "# The user will input some number, we will return a single string\n",
    "\n",
    "def get_letter_grade(somegrade):\n",
    "    if somegrade >= 90:\n",
    "        return 'A'\n",
    "    elif somegrade >= 80:\n",
    "        return 'B'\n",
    "    elif somegrade >= 70:\n",
    "        return 'C'\n",
    "    else:\n",
    "        return 'F'\n",
    "    \n",
    "\n",
    "assert get_letter_grade(100) == \"A\"\n",
    "assert get_letter_grade(75) == \"C\""
   ]
  },
  {
   "cell_type": "code",
   "execution_count": null,
   "id": "wicked-cleveland",
   "metadata": {},
   "outputs": [],
   "source": [
    "# if some condition:\n",
    "# else:\n",
    "#     if some_second_condition\n",
    "\n",
    "#     ==\n",
    "    \n",
    "# if some condition\n",
    "# elif some_second_condition"
   ]
  },
  {
   "cell_type": "code",
   "execution_count": 40,
   "id": "71bf0b2b",
   "metadata": {},
   "outputs": [],
   "source": [
    "my_empty_string =  ''"
   ]
  },
  {
   "cell_type": "code",
   "execution_count": 41,
   "id": "1eab0fc6",
   "metadata": {},
   "outputs": [],
   "source": [
    "my_empty_string += 'extra content'"
   ]
  },
  {
   "cell_type": "code",
   "execution_count": 42,
   "id": "0028a275",
   "metadata": {},
   "outputs": [],
   "source": [
    "my_empty_string += ' and more!'"
   ]
  },
  {
   "cell_type": "code",
   "execution_count": 43,
   "id": "b2a00a92",
   "metadata": {},
   "outputs": [
    {
     "data": {
      "text/plain": [
       "'extra content and more!'"
      ]
     },
     "execution_count": 43,
     "metadata": {},
     "output_type": "execute_result"
    }
   ],
   "source": [
    "my_empty_string"
   ]
  },
  {
   "cell_type": "code",
   "execution_count": 45,
   "id": "98758a35",
   "metadata": {},
   "outputs": [],
   "source": [
    "# for letter in my_empty_string:\n",
    "#     print(letter)"
   ]
  },
  {
   "cell_type": "code",
   "execution_count": 47,
   "id": "quiet-package",
   "metadata": {},
   "outputs": [],
   "source": [
    "# Exercise 9\n",
    "# Define a function named remove_vowels that accepts a \n",
    "# string and returns a string with all the vowels removed.\n",
    "def remove_vowels(vowel_word):\n",
    "    new_word = ''\n",
    "    for letter in vowel_word:\n",
    "        if not is_vowel(letter):\n",
    "            new_word += letter\n",
    "    return new_word\n",
    "    \n",
    "    \n",
    "assert remove_vowels(\"banana\") == \"bnn\"\n",
    "assert remove_vowels(\"coffee\") == \"cff\""
   ]
  },
  {
   "cell_type": "code",
   "execution_count": 71,
   "id": "a96ba711",
   "metadata": {},
   "outputs": [],
   "source": [
    "# Exercise 9 funsies\n",
    "# Define a function named remove_vowels that accepts a \n",
    "# string and returns a string with all the vowels removed.\n",
    "def remove_vowels(vowel_word):\n",
    "    new_string = []\n",
    "    [new_string.append(letter) for letter in vowel_word if not is_vowel(letter)]\n",
    "    return ''.join(new_string)\n",
    "    "
   ]
  },
  {
   "cell_type": "code",
   "execution_count": 72,
   "id": "a7c1cf06",
   "metadata": {},
   "outputs": [
    {
     "data": {
      "text/plain": [
       "'cff'"
      ]
     },
     "execution_count": 72,
     "metadata": {},
     "output_type": "execute_result"
    }
   ],
   "source": [
    "remove_vowels('coffee')"
   ]
  },
  {
   "cell_type": "code",
   "execution_count": 73,
   "id": "7c6b52fe",
   "metadata": {
    "scrolled": true
   },
   "outputs": [],
   "source": [
    "   \n",
    "assert remove_vowels(\"banana\") == \"bnn\"\n",
    "assert remove_vowels(\"coffee\") == \"cff\""
   ]
  },
  {
   "cell_type": "code",
   "execution_count": 59,
   "id": "c670f7c2",
   "metadata": {},
   "outputs": [
    {
     "data": {
      "text/plain": [
       "[None, None, None]"
      ]
     },
     "execution_count": 59,
     "metadata": {},
     "output_type": "execute_result"
    }
   ],
   "source": []
  },
  {
   "cell_type": "code",
   "execution_count": 62,
   "id": "ecb6bbe3",
   "metadata": {},
   "outputs": [
    {
     "data": {
      "text/plain": [
       "['b', 'n', 'n']"
      ]
     },
     "execution_count": 62,
     "metadata": {},
     "output_type": "execute_result"
    }
   ],
   "source": [
    "new_string"
   ]
  },
  {
   "cell_type": "code",
   "execution_count": 63,
   "id": "2f74a5d8",
   "metadata": {},
   "outputs": [],
   "source": [
    "# new string method just dropped: join"
   ]
  },
  {
   "cell_type": "code",
   "execution_count": 66,
   "id": "34539b8c",
   "metadata": {},
   "outputs": [
    {
     "data": {
      "text/plain": [
       "'bnn'"
      ]
     },
     "execution_count": 66,
     "metadata": {},
     "output_type": "execute_result"
    }
   ],
   "source": [
    "''.join(new_string)"
   ]
  },
  {
   "cell_type": "code",
   "execution_count": 60,
   "id": "17dc935e",
   "metadata": {},
   "outputs": [],
   "source": [
    "mylist = []\n",
    "mylist.append('hi')"
   ]
  },
  {
   "cell_type": "code",
   "execution_count": 61,
   "id": "f1b4c662",
   "metadata": {},
   "outputs": [
    {
     "data": {
      "text/plain": [
       "NoneType"
      ]
     },
     "execution_count": 61,
     "metadata": {},
     "output_type": "execute_result"
    }
   ],
   "source": [
    "type(mylist.append('hello'))"
   ]
  },
  {
   "cell_type": "code",
   "execution_count": 48,
   "id": "2b7f6075",
   "metadata": {},
   "outputs": [],
   "source": [
    "str.isidentifier?"
   ]
  },
  {
   "cell_type": "code",
   "execution_count": 50,
   "id": "8b45fbf6",
   "metadata": {},
   "outputs": [
    {
     "data": {
      "text/plain": [
       "'Hallo'"
      ]
     },
     "execution_count": 50,
     "metadata": {},
     "output_type": "execute_result"
    }
   ],
   "source": [
    "greeting = 'hello'\n",
    "greeting.capitalize().replace('e','a')"
   ]
  },
  {
   "cell_type": "code",
   "execution_count": 54,
   "id": "c8be4431",
   "metadata": {},
   "outputs": [],
   "source": [
    "# Exercise 10\n",
    "# Define a function named normalize_name. \n",
    "# It should accept a string and return a valid python identifier\n",
    "# steps I want to take\n",
    "# make lowercase, remove whitespace, establish valid identifier\n",
    "\n",
    "def normalize_name(somestring):\n",
    "    newstring = ''\n",
    "    for letter in somestring:\n",
    "        if letter.isidentifier() or letter == ' ':\n",
    "            newstring += letter\n",
    "    return newstring.strip().lower().replace(' ', '_')\n",
    " "
   ]
  },
  {
   "cell_type": "code",
   "execution_count": 55,
   "id": "2b54b9e5",
   "metadata": {},
   "outputs": [
    {
     "data": {
      "text/plain": [
       "'completed'"
      ]
     },
     "execution_count": 55,
     "metadata": {},
     "output_type": "execute_result"
    }
   ],
   "source": [
    "normalize_name(\"% Completed\")"
   ]
  },
  {
   "cell_type": "code",
   "execution_count": 56,
   "id": "seasonal-builder",
   "metadata": {},
   "outputs": [],
   "source": [
    "  \n",
    "    \n",
    "assert normalize_name(\"First Name\") == \"first_name\"\n",
    "assert normalize_name(\"% Completed\") == \"completed\"\n",
    "assert normalize_name(\" sum of squares \") == \"sum_of_squares\""
   ]
  },
  {
   "cell_type": "code",
   "execution_count": null,
   "id": "02951374",
   "metadata": {},
   "outputs": [],
   "source": []
  },
  {
   "cell_type": "code",
   "execution_count": 74,
   "id": "9ce903b0",
   "metadata": {},
   "outputs": [
    {
     "data": {
      "text/plain": [
       "10"
      ]
     },
     "execution_count": 74,
     "metadata": {},
     "output_type": "execute_result"
    }
   ],
   "source": [
    "# a little sum:\n",
    "sum([1,2,3,4])"
   ]
  },
  {
   "cell_type": "code",
   "execution_count": 75,
   "id": "d5557e07",
   "metadata": {},
   "outputs": [],
   "source": [
    "mylist = [1,2,3,4]"
   ]
  },
  {
   "cell_type": "code",
   "execution_count": 78,
   "id": "40ea9bf6",
   "metadata": {},
   "outputs": [
    {
     "data": {
      "text/plain": [
       "2"
      ]
     },
     "execution_count": 78,
     "metadata": {},
     "output_type": "execute_result"
    }
   ],
   "source": [
    "mylist[1]"
   ]
  },
  {
   "cell_type": "code",
   "execution_count": 82,
   "id": "76d38233",
   "metadata": {},
   "outputs": [
    {
     "data": {
      "text/plain": [
       "3"
      ]
     },
     "execution_count": 82,
     "metadata": {},
     "output_type": "execute_result"
    }
   ],
   "source": [
    "sum(mylist[:2])"
   ]
  },
  {
   "cell_type": "code",
   "execution_count": 83,
   "id": "1af70aae",
   "metadata": {},
   "outputs": [
    {
     "data": {
      "text/plain": [
       "[1, 3, 6, 10]"
      ]
     },
     "execution_count": 83,
     "metadata": {},
     "output_type": "execute_result"
    }
   ],
   "source": [
    "[sum(mylist[:n]) for n in mylist]"
   ]
  },
  {
   "cell_type": "code",
   "execution_count": 84,
   "id": "9f51c7fe",
   "metadata": {},
   "outputs": [
    {
     "data": {
      "text/plain": [
       "[1, 3, 6, 10]"
      ]
     },
     "execution_count": 84,
     "metadata": {},
     "output_type": "execute_result"
    }
   ],
   "source": [
    "newlist = []\n",
    "for n in mylist:\n",
    "    cumusum = sum(mylist[:n])\n",
    "    newlist.append(cumusum)\n",
    "newlist"
   ]
  },
  {
   "cell_type": "code",
   "execution_count": 92,
   "id": "19f21ae1",
   "metadata": {},
   "outputs": [],
   "source": [
    "# Exercise 11\n",
    "# Write a function named cumulative_sum that accepts a list of numbers and returns a list \n",
    "# that is the cumulative sum of the numbers in the list.\n",
    "# cumulative_sum([1, 1, 1]) returns [1, 2, 3]\n",
    "# cumulative_sum([1, 2, 3, 4]) returns [1, 3, 6, 10]\n",
    "\n",
    "def cumulative_sum(oldlist):\n",
    "    newlist = []\n",
    "    for n in mylist:\n",
    "        cumusum = sum(oldlist[:n])\n",
    "        newlist.append(cumusum)\n",
    "    return newlist\n",
    "    \n",
    "assert cumulative_sum([1, 2, 3, 4]) == [1, 3, 6, 10]"
   ]
  },
  {
   "cell_type": "code",
   "execution_count": 93,
   "id": "9d67f1f3",
   "metadata": {},
   "outputs": [
    {
     "data": {
      "text/plain": [
       "[1, 2, 3, 4]"
      ]
     },
     "execution_count": 93,
     "metadata": {},
     "output_type": "execute_result"
    }
   ],
   "source": [
    "cumulative_sum([1, 1, 1, 1])"
   ]
  },
  {
   "cell_type": "code",
   "execution_count": 94,
   "id": "solar-wayne",
   "metadata": {},
   "outputs": [],
   "source": [
    "assert cumulative_sum([1, 1, 1, 1]) == [1, 2, 3, 4]"
   ]
  },
  {
   "cell_type": "code",
   "execution_count": null,
   "id": "165ee4c0",
   "metadata": {},
   "outputs": [],
   "source": []
  },
  {
   "cell_type": "code",
   "execution_count": null,
   "id": "eabd70d4",
   "metadata": {},
   "outputs": [],
   "source": []
  }
 ],
 "metadata": {
  "kernelspec": {
   "display_name": "Python 3",
   "language": "python",
   "name": "python3"
  },
  "language_info": {
   "codemirror_mode": {
    "name": "ipython",
    "version": 3
   },
   "file_extension": ".py",
   "mimetype": "text/x-python",
   "name": "python",
   "nbconvert_exporter": "python",
   "pygments_lexer": "ipython3",
   "version": "3.9.4"
  }
 },
 "nbformat": 4,
 "nbformat_minor": 5
}
