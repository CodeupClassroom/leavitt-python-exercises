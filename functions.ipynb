{
 "cells": [
  {
   "cell_type": "markdown",
   "id": "698b38e5",
   "metadata": {},
   "source": [
    "## Functions\n",
    "### How to orchestrate more complex sequence of statements"
   ]
  },
  {
   "cell_type": "markdown",
   "id": "f6323c1b",
   "metadata": {},
   "source": [
    "#### Goals:\n",
    "### Learn how to invoke a function\n",
    "#### Learn how functions interact with args/params\n",
    "#### Learn how to write a function\n",
    "#### Learn about return statements"
   ]
  },
  {
   "cell_type": "markdown",
   "id": "651dfe22",
   "metadata": {},
   "source": [
    "## Vocabulary:\n",
    " - Calling/Invoking: Executing a function"
   ]
  },
  {
   "cell_type": "code",
   "execution_count": 1,
   "id": "4ac8d0e9",
   "metadata": {},
   "outputs": [],
   "source": [
    "## ? after a function name: get the docstring\n",
    "## help(function) get more documentation about function"
   ]
  },
  {
   "cell_type": "code",
   "execution_count": 2,
   "id": "2cc5037c",
   "metadata": {},
   "outputs": [],
   "source": [
    "len?"
   ]
  },
  {
   "cell_type": "code",
   "execution_count": 3,
   "id": "b24c81ce",
   "metadata": {},
   "outputs": [
    {
     "name": "stdout",
     "output_type": "stream",
     "text": [
      "Help on built-in function len in module builtins:\n",
      "\n",
      "len(obj, /)\n",
      "    Return the number of items in a container.\n",
      "\n"
     ]
    }
   ],
   "source": [
    "help(len)"
   ]
  },
  {
   "cell_type": "code",
   "execution_count": 4,
   "id": "fd1e40a7",
   "metadata": {},
   "outputs": [
    {
     "data": {
      "text/plain": [
       "5"
      ]
     },
     "execution_count": 4,
     "metadata": {},
     "output_type": "execute_result"
    }
   ],
   "source": [
    "len('hello')"
   ]
  },
  {
   "cell_type": "markdown",
   "id": "a2973558",
   "metadata": {},
   "source": [
    "Just like we have variables that reference information\n",
    "we define and interact with functions in a very similar manner, with a bit of a catch"
   ]
  },
  {
   "cell_type": "code",
   "execution_count": 5,
   "id": "b856b44c",
   "metadata": {},
   "outputs": [
    {
     "data": {
      "text/plain": [
       "<function len(obj, /)>"
      ]
     },
     "execution_count": 5,
     "metadata": {},
     "output_type": "execute_result"
    }
   ],
   "source": [
    "len"
   ]
  },
  {
   "cell_type": "code",
   "execution_count": 6,
   "id": "d1536a20",
   "metadata": {},
   "outputs": [
    {
     "data": {
      "text/plain": [
       "builtin_function_or_method"
      ]
     },
     "execution_count": 6,
     "metadata": {},
     "output_type": "execute_result"
    }
   ],
   "source": [
    "type(len)"
   ]
  },
  {
   "cell_type": "code",
   "execution_count": 7,
   "id": "68e7b1ff",
   "metadata": {
    "scrolled": true
   },
   "outputs": [
    {
     "ename": "TypeError",
     "evalue": "len() takes exactly one argument (0 given)",
     "output_type": "error",
     "traceback": [
      "\u001b[0;31m---------------------------------------------------------------------------\u001b[0m",
      "\u001b[0;31mTypeError\u001b[0m                                 Traceback (most recent call last)",
      "\u001b[0;32m<ipython-input-7-adf3103c7c3e>\u001b[0m in \u001b[0;36m<module>\u001b[0;34m\u001b[0m\n\u001b[0;32m----> 1\u001b[0;31m \u001b[0mlen\u001b[0m\u001b[0;34m(\u001b[0m\u001b[0;34m)\u001b[0m\u001b[0;34m\u001b[0m\u001b[0;34m\u001b[0m\u001b[0m\n\u001b[0m",
      "\u001b[0;31mTypeError\u001b[0m: len() takes exactly one argument (0 given)"
     ]
    }
   ],
   "source": [
    "len()"
   ]
  },
  {
   "cell_type": "code",
   "execution_count": 8,
   "id": "71a65b5c",
   "metadata": {},
   "outputs": [
    {
     "name": "stdout",
     "output_type": "stream",
     "text": [
      "\n"
     ]
    }
   ],
   "source": [
    "print()"
   ]
  },
  {
   "cell_type": "markdown",
   "id": "003f2156",
   "metadata": {},
   "source": [
    " - Invoking a function involves adding () to the end of it\n",
    " - Any given function may or may not have required arguments associated with it"
   ]
  },
  {
   "cell_type": "code",
   "execution_count": 9,
   "id": "7f5d5cdb",
   "metadata": {},
   "outputs": [],
   "source": [
    "len?"
   ]
  },
  {
   "cell_type": "markdown",
   "id": "0bc8065e",
   "metadata": {},
   "source": [
    "### Ok, arguments and parameters? What?"
   ]
  },
  {
   "cell_type": "markdown",
   "id": "7bd0fdf8",
   "metadata": {},
   "source": [
    " - Argument: The thing being fed into the parenthesis\n",
    "             (when the function is being called)\n",
    "             len('hello') --> the string literal hello\n",
    "- Parameters:The thing being defined into the function that                will be called when we use the function as a                  parameter (think lava/magma situation)"
   ]
  },
  {
   "cell_type": "code",
   "execution_count": 10,
   "id": "9b773a1b",
   "metadata": {},
   "outputs": [
    {
     "data": {
      "text/plain": [
       "<function len(obj, /)>"
      ]
     },
     "execution_count": 10,
     "metadata": {},
     "output_type": "execute_result"
    }
   ],
   "source": [
    "len"
   ]
  },
  {
   "cell_type": "code",
   "execution_count": 11,
   "id": "13bde210",
   "metadata": {},
   "outputs": [
    {
     "data": {
      "text/plain": [
       "5"
      ]
     },
     "execution_count": 11,
     "metadata": {},
     "output_type": "execute_result"
    }
   ],
   "source": [
    "len('hello')"
   ]
  },
  {
   "cell_type": "markdown",
   "id": "1f9397d9",
   "metadata": {},
   "source": [
    "Methods: functions that exist as a property of an object in python"
   ]
  },
  {
   "cell_type": "code",
   "execution_count": 12,
   "id": "5ea7f7db",
   "metadata": {},
   "outputs": [
    {
     "data": {
      "text/plain": [
       "'hello'"
      ]
     },
     "execution_count": 12,
     "metadata": {},
     "output_type": "execute_result"
    }
   ],
   "source": [
    "'Hello'.lower()"
   ]
  },
  {
   "cell_type": "code",
   "execution_count": 13,
   "id": "7c8a58f2",
   "metadata": {},
   "outputs": [
    {
     "ename": "NameError",
     "evalue": "name 'lower' is not defined",
     "output_type": "error",
     "traceback": [
      "\u001b[0;31m---------------------------------------------------------------------------\u001b[0m",
      "\u001b[0;31mNameError\u001b[0m                                 Traceback (most recent call last)",
      "\u001b[0;32m<ipython-input-13-6958340278e3>\u001b[0m in \u001b[0;36m<module>\u001b[0;34m\u001b[0m\n\u001b[0;32m----> 1\u001b[0;31m \u001b[0mlower\u001b[0m\u001b[0;34m(\u001b[0m\u001b[0;34m'Hello'\u001b[0m\u001b[0;34m)\u001b[0m\u001b[0;34m\u001b[0m\u001b[0;34m\u001b[0m\u001b[0m\n\u001b[0m",
      "\u001b[0;31mNameError\u001b[0m: name 'lower' is not defined"
     ]
    }
   ],
   "source": [
    "lower('Hello')"
   ]
  },
  {
   "cell_type": "markdown",
   "id": "ca3be61e",
   "metadata": {},
   "source": [
    "### What makes up a function?"
   ]
  },
  {
   "cell_type": "code",
   "execution_count": 14,
   "id": "0b3856dc",
   "metadata": {},
   "outputs": [],
   "source": [
    "# keyword to make a function: def\n",
    "def my_first_function():\n",
    "    print('hello leavitt')"
   ]
  },
  {
   "cell_type": "code",
   "execution_count": 15,
   "id": "6d0361e5",
   "metadata": {},
   "outputs": [
    {
     "data": {
      "text/plain": [
       "<function __main__.my_first_function()>"
      ]
     },
     "execution_count": 15,
     "metadata": {},
     "output_type": "execute_result"
    }
   ],
   "source": [
    "# on its own, my_first_function is a variable pointing to a function\n",
    "my_first_function"
   ]
  },
  {
   "cell_type": "code",
   "execution_count": 16,
   "id": "661a7aea",
   "metadata": {},
   "outputs": [
    {
     "name": "stdout",
     "output_type": "stream",
     "text": [
      "hello leavitt\n"
     ]
    }
   ],
   "source": [
    "# using the () at the end invokes, or calls the function.\n",
    "my_first_function()"
   ]
  },
  {
   "cell_type": "code",
   "execution_count": 17,
   "id": "7524dd1c",
   "metadata": {},
   "outputs": [],
   "source": [
    "my_greeting = my_first_function"
   ]
  },
  {
   "cell_type": "code",
   "execution_count": 18,
   "id": "9b85e9fb",
   "metadata": {},
   "outputs": [
    {
     "data": {
      "text/plain": [
       "<function __main__.my_first_function()>"
      ]
     },
     "execution_count": 18,
     "metadata": {},
     "output_type": "execute_result"
    }
   ],
   "source": [
    "my_greeting"
   ]
  },
  {
   "cell_type": "code",
   "execution_count": 19,
   "id": "e8da6a67",
   "metadata": {},
   "outputs": [
    {
     "name": "stdout",
     "output_type": "stream",
     "text": [
      "hello leavitt\n"
     ]
    }
   ],
   "source": [
    "my_greeting_2 = my_first_function()"
   ]
  },
  {
   "cell_type": "code",
   "execution_count": 20,
   "id": "3d430dcd",
   "metadata": {},
   "outputs": [],
   "source": [
    "my_greeting_2"
   ]
  },
  {
   "cell_type": "code",
   "execution_count": 21,
   "id": "aba603eb",
   "metadata": {},
   "outputs": [
    {
     "name": "stdout",
     "output_type": "stream",
     "text": [
      "hello leavitt\n"
     ]
    }
   ],
   "source": [
    "my_greeting()"
   ]
  },
  {
   "cell_type": "code",
   "execution_count": 22,
   "id": "70bd9025",
   "metadata": {},
   "outputs": [
    {
     "name": "stdout",
     "output_type": "stream",
     "text": [
      "<function my_first_function at 0x7f81814f29d0>\n"
     ]
    }
   ],
   "source": [
    "print(my_greeting)"
   ]
  },
  {
   "cell_type": "code",
   "execution_count": 23,
   "id": "524f5f01",
   "metadata": {},
   "outputs": [
    {
     "name": "stdout",
     "output_type": "stream",
     "text": [
      "None\n"
     ]
    }
   ],
   "source": [
    "# my first function has *no return*, so if we assign its call to a variable, we get a Nonetype.\n",
    "print(my_greeting_2)"
   ]
  },
  {
   "cell_type": "markdown",
   "id": "269bdafa",
   "metadata": {},
   "source": [
    "- OK, so what about these returns?"
   ]
  },
  {
   "cell_type": "code",
   "execution_count": 24,
   "id": "6ee7c3c5",
   "metadata": {},
   "outputs": [],
   "source": [
    "def increment(n):\n",
    "    return n+1"
   ]
  },
  {
   "cell_type": "code",
   "execution_count": 26,
   "id": "54bb5bed",
   "metadata": {},
   "outputs": [
    {
     "name": "stdout",
     "output_type": "stream",
     "text": [
      "6\n"
     ]
    }
   ],
   "source": [
    "print(increment(5))"
   ]
  },
  {
   "cell_type": "code",
   "execution_count": 27,
   "id": "0d6dd5c8",
   "metadata": {},
   "outputs": [],
   "source": [
    "# use variables to hold the return of a function"
   ]
  },
  {
   "cell_type": "code",
   "execution_count": 28,
   "id": "c07f53f2",
   "metadata": {},
   "outputs": [],
   "source": [
    "my_bigger_number = increment(6)"
   ]
  },
  {
   "cell_type": "code",
   "execution_count": 29,
   "id": "18977d6b",
   "metadata": {
    "scrolled": true
   },
   "outputs": [
    {
     "data": {
      "text/plain": [
       "7"
      ]
     },
     "execution_count": 29,
     "metadata": {},
     "output_type": "execute_result"
    }
   ],
   "source": [
    "my_bigger_number"
   ]
  },
  {
   "cell_type": "markdown",
   "id": "33534ccc",
   "metadata": {},
   "source": [
    "Return statements spit out whatever the return says back to the user"
   ]
  },
  {
   "cell_type": "code",
   "execution_count": 33,
   "id": "6e3bc1b9",
   "metadata": {},
   "outputs": [],
   "source": [
    "def my_extra_stuff(x):\n",
    "    '''\n",
    "    my_extra_stuff:\n",
    "    parameters: x, a numtype variable\n",
    "    return: x, a version of x incremented by 10\n",
    "    '''\n",
    "    print('hello leavitt')\n",
    "    x += 10\n",
    "    return x"
   ]
  },
  {
   "cell_type": "code",
   "execution_count": 35,
   "id": "0ce2c3b7",
   "metadata": {},
   "outputs": [
    {
     "data": {
      "text/plain": [
       "<function __main__.my_extra_stuff(x)>"
      ]
     },
     "execution_count": 35,
     "metadata": {},
     "output_type": "execute_result"
    }
   ],
   "source": [
    "my_extra_stuff"
   ]
  },
  {
   "cell_type": "code",
   "execution_count": 36,
   "id": "89f8d688",
   "metadata": {},
   "outputs": [
    {
     "name": "stdout",
     "output_type": "stream",
     "text": [
      "hello leavitt\n"
     ]
    },
    {
     "data": {
      "text/plain": [
       "15"
      ]
     },
     "execution_count": 36,
     "metadata": {},
     "output_type": "execute_result"
    }
   ],
   "source": [
    "my_extra_stuff(5)"
   ]
  },
  {
   "cell_type": "code",
   "execution_count": 37,
   "id": "d80eb129",
   "metadata": {},
   "outputs": [
    {
     "name": "stdout",
     "output_type": "stream",
     "text": [
      "hello leavitt\n"
     ]
    }
   ],
   "source": [
    "y = 90\n",
    "my_new_num = my_extra_stuff(y)"
   ]
  },
  {
   "cell_type": "code",
   "execution_count": 38,
   "id": "c89cc280",
   "metadata": {},
   "outputs": [
    {
     "data": {
      "text/plain": [
       "100"
      ]
     },
     "execution_count": 38,
     "metadata": {},
     "output_type": "execute_result"
    }
   ],
   "source": [
    "my_new_num"
   ]
  },
  {
   "cell_type": "code",
   "execution_count": 39,
   "id": "d9d7674e",
   "metadata": {},
   "outputs": [],
   "source": [
    "def my_extra_stuff_2(x):\n",
    "    '''\n",
    "    my_extra_stuff:\n",
    "    parameters: x, a numtype variable\n",
    "    return: x, a version of x incremented by 10\n",
    "    '''\n",
    "    x += 10\n",
    "    return x\n",
    "    print('hello leavitt')"
   ]
  },
  {
   "cell_type": "code",
   "execution_count": 40,
   "id": "bda31d17",
   "metadata": {},
   "outputs": [
    {
     "data": {
      "text/plain": [
       "19"
      ]
     },
     "execution_count": 40,
     "metadata": {},
     "output_type": "execute_result"
    }
   ],
   "source": [
    "my_extra_stuff_2(9)"
   ]
  },
  {
   "cell_type": "code",
   "execution_count": 51,
   "id": "4252cefd",
   "metadata": {},
   "outputs": [],
   "source": [
    "# doc strings are introduced after the first indent inside of your function with triple quotes.\n",
    "# for any function, you will include a docstring.\n",
    "def nuanced_increment(x):\n",
    "    '''\n",
    "    parameters: x (positional argument)\n",
    "                a numtype\n",
    "    return: if x is an even number, increment by ten\n",
    "            otherwise, return x\n",
    "    '''\n",
    "    if x % 2 == 0:\n",
    "        x = x + 10\n",
    "        return x\n",
    "    else:\n",
    "        return x\n",
    "    print('hello leavitt')"
   ]
  },
  {
   "cell_type": "code",
   "execution_count": 52,
   "id": "a347f7b8",
   "metadata": {},
   "outputs": [
    {
     "data": {
      "text/plain": [
       "14"
      ]
     },
     "execution_count": 52,
     "metadata": {},
     "output_type": "execute_result"
    }
   ],
   "source": [
    "nuanced_increment(4)"
   ]
  },
  {
   "cell_type": "code",
   "execution_count": 53,
   "id": "a409bee9",
   "metadata": {},
   "outputs": [
    {
     "data": {
      "text/plain": [
       "5"
      ]
     },
     "execution_count": 53,
     "metadata": {},
     "output_type": "execute_result"
    }
   ],
   "source": [
    "nuanced_increment(5)"
   ]
  },
  {
   "cell_type": "code",
   "execution_count": 54,
   "id": "4ec1da07",
   "metadata": {},
   "outputs": [
    {
     "ename": "TypeError",
     "evalue": "not all arguments converted during string formatting",
     "output_type": "error",
     "traceback": [
      "\u001b[0;31m---------------------------------------------------------------------------\u001b[0m",
      "\u001b[0;31mTypeError\u001b[0m                                 Traceback (most recent call last)",
      "\u001b[0;32m<ipython-input-54-dfedf6265bb1>\u001b[0m in \u001b[0;36m<module>\u001b[0;34m\u001b[0m\n\u001b[0;32m----> 1\u001b[0;31m \u001b[0mnuanced_increment\u001b[0m\u001b[0;34m(\u001b[0m\u001b[0;34m'hello'\u001b[0m\u001b[0;34m)\u001b[0m\u001b[0;34m\u001b[0m\u001b[0;34m\u001b[0m\u001b[0m\n\u001b[0m",
      "\u001b[0;32m<ipython-input-51-ff618309a2a0>\u001b[0m in \u001b[0;36mnuanced_increment\u001b[0;34m(x)\u001b[0m\n\u001b[1;32m      6\u001b[0m             \u001b[0motherwise\u001b[0m\u001b[0;34m,\u001b[0m \u001b[0;32mreturn\u001b[0m \u001b[0mx\u001b[0m\u001b[0;34m\u001b[0m\u001b[0;34m\u001b[0m\u001b[0m\n\u001b[1;32m      7\u001b[0m     '''\n\u001b[0;32m----> 8\u001b[0;31m     \u001b[0;32mif\u001b[0m \u001b[0mx\u001b[0m \u001b[0;34m%\u001b[0m \u001b[0;36m2\u001b[0m \u001b[0;34m==\u001b[0m \u001b[0;36m0\u001b[0m\u001b[0;34m:\u001b[0m\u001b[0;34m\u001b[0m\u001b[0;34m\u001b[0m\u001b[0m\n\u001b[0m\u001b[1;32m      9\u001b[0m         \u001b[0mx\u001b[0m \u001b[0;34m=\u001b[0m \u001b[0mx\u001b[0m \u001b[0;34m+\u001b[0m \u001b[0;36m10\u001b[0m\u001b[0;34m\u001b[0m\u001b[0;34m\u001b[0m\u001b[0m\n\u001b[1;32m     10\u001b[0m         \u001b[0;32mreturn\u001b[0m \u001b[0mx\u001b[0m\u001b[0;34m\u001b[0m\u001b[0;34m\u001b[0m\u001b[0m\n",
      "\u001b[0;31mTypeError\u001b[0m: not all arguments converted during string formatting"
     ]
    }
   ],
   "source": [
    "nuanced_increment('hello')"
   ]
  },
  {
   "cell_type": "code",
   "execution_count": 55,
   "id": "a9db7529",
   "metadata": {},
   "outputs": [],
   "source": [
    "def my_string_len(some_string):\n",
    "    return len(some_string)"
   ]
  },
  {
   "cell_type": "code",
   "execution_count": 56,
   "id": "87170d9e",
   "metadata": {},
   "outputs": [
    {
     "data": {
      "text/plain": [
       "13"
      ]
     },
     "execution_count": 56,
     "metadata": {},
     "output_type": "execute_result"
    }
   ],
   "source": [
    "my_string_len('hello leavitt')"
   ]
  },
  {
   "cell_type": "markdown",
   "id": "e5522542",
   "metadata": {},
   "source": [
    "### Keyword arguments (kwargs) vs positional arguments\n",
    " - Keyword arguments always have a default argument, coded in by the developer of the function\n",
    " - because they have a default value, they are optional in your function call.\n",
    " - positional arguments will *always* come first, both in definition of the parameters as well as "
   ]
  },
  {
   "cell_type": "code",
   "execution_count": 57,
   "id": "dfa8b845",
   "metadata": {},
   "outputs": [],
   "source": [
    "def useless_funct(x, y='hello leavitt'):\n",
    "    if y == 'hello leavitt':\n",
    "        print('ah, its so good to see you')\n",
    "    return x"
   ]
  },
  {
   "cell_type": "code",
   "execution_count": 62,
   "id": "74d2f8b9",
   "metadata": {},
   "outputs": [
    {
     "data": {
      "text/plain": [
       "8"
      ]
     },
     "execution_count": 62,
     "metadata": {},
     "output_type": "execute_result"
    }
   ],
   "source": [
    "useless_funct(8, y='hey')"
   ]
  },
  {
   "cell_type": "code",
   "execution_count": 63,
   "id": "4223037b",
   "metadata": {},
   "outputs": [
    {
     "data": {
      "text/plain": [
       "8"
      ]
     },
     "execution_count": 63,
     "metadata": {},
     "output_type": "execute_result"
    }
   ],
   "source": [
    "useless_funct(8, 'hey')"
   ]
  },
  {
   "cell_type": "code",
   "execution_count": 64,
   "id": "f6fef962",
   "metadata": {},
   "outputs": [],
   "source": [
    "def popquiz(y=8):\n",
    "    return y\n",
    "    y += 2\n",
    "    return y "
   ]
  },
  {
   "cell_type": "code",
   "execution_count": 65,
   "id": "ec32e23f",
   "metadata": {},
   "outputs": [
    {
     "data": {
      "text/plain": [
       "8"
      ]
     },
     "execution_count": 65,
     "metadata": {},
     "output_type": "execute_result"
    }
   ],
   "source": [
    "popquiz()"
   ]
  },
  {
   "cell_type": "code",
   "execution_count": 66,
   "id": "7dd4341e",
   "metadata": {},
   "outputs": [],
   "source": [
    "def multi_return(y=8):\n",
    "    y -= 6\n",
    "    hello_leavitt = 'hi!'\n",
    "    return y, hello_leavitt"
   ]
  },
  {
   "cell_type": "code",
   "execution_count": 67,
   "id": "545fa48d",
   "metadata": {},
   "outputs": [
    {
     "data": {
      "text/plain": [
       "(2, 'hi!')"
      ]
     },
     "execution_count": 67,
     "metadata": {},
     "output_type": "execute_result"
    }
   ],
   "source": [
    "multi_return()"
   ]
  },
  {
   "cell_type": "code",
   "execution_count": 68,
   "id": "3bc288ba",
   "metadata": {},
   "outputs": [],
   "source": [
    "def multi_return(y=8):\n",
    "    y -= 6\n",
    "    hello_leavitt = 'hi!'\n",
    "    return y"
   ]
  },
  {
   "cell_type": "code",
   "execution_count": 69,
   "id": "cde68eb5",
   "metadata": {},
   "outputs": [
    {
     "data": {
      "text/plain": [
       "2"
      ]
     },
     "execution_count": 69,
     "metadata": {},
     "output_type": "execute_result"
    }
   ],
   "source": [
    "multi_return()"
   ]
  },
  {
   "cell_type": "code",
   "execution_count": 70,
   "id": "eeb6dcea",
   "metadata": {},
   "outputs": [
    {
     "ename": "NameError",
     "evalue": "name 'hello_leavitt' is not defined",
     "output_type": "error",
     "traceback": [
      "\u001b[0;31m---------------------------------------------------------------------------\u001b[0m",
      "\u001b[0;31mNameError\u001b[0m                                 Traceback (most recent call last)",
      "\u001b[0;32m<ipython-input-70-722c5b836aeb>\u001b[0m in \u001b[0;36m<module>\u001b[0;34m\u001b[0m\n\u001b[0;32m----> 1\u001b[0;31m \u001b[0mhello_leavitt\u001b[0m\u001b[0;34m\u001b[0m\u001b[0;34m\u001b[0m\u001b[0m\n\u001b[0m",
      "\u001b[0;31mNameError\u001b[0m: name 'hello_leavitt' is not defined"
     ]
    }
   ],
   "source": [
    "hello_leavitt"
   ]
  },
  {
   "cell_type": "markdown",
   "id": "2a4758de",
   "metadata": {},
   "source": [
    "#### Lambda functions: do something quick if we are going to use it once"
   ]
  },
  {
   "cell_type": "code",
   "execution_count": 71,
   "id": "edbf55de",
   "metadata": {},
   "outputs": [
    {
     "data": {
      "text/plain": [
       "<function __main__.<lambda>(x)>"
      ]
     },
     "execution_count": 71,
     "metadata": {},
     "output_type": "execute_result"
    }
   ],
   "source": [
    "lambda x: x+1"
   ]
  },
  {
   "cell_type": "code",
   "execution_count": 72,
   "id": "a09eee6a",
   "metadata": {},
   "outputs": [],
   "source": [
    "# structurally: x: thing we are feeding into the function\n",
    "# colon: instructions for that thing (the argument x)\n",
    "# the expression that represents the action of what we are doing"
   ]
  },
  {
   "cell_type": "code",
   "execution_count": 73,
   "id": "4d524928",
   "metadata": {},
   "outputs": [],
   "source": [
    "my_lambda = lambda x: x+1"
   ]
  },
  {
   "cell_type": "code",
   "execution_count": 74,
   "id": "5578f0be",
   "metadata": {},
   "outputs": [
    {
     "data": {
      "text/plain": [
       "10"
      ]
     },
     "execution_count": 74,
     "metadata": {},
     "output_type": "execute_result"
    }
   ],
   "source": [
    "my_lambda(9)"
   ]
  },
  {
   "cell_type": "code",
   "execution_count": 75,
   "id": "1937d899",
   "metadata": {},
   "outputs": [
    {
     "data": {
      "text/plain": [
       "<function __main__.<lambda>(x)>"
      ]
     },
     "execution_count": 75,
     "metadata": {},
     "output_type": "execute_result"
    }
   ],
   "source": [
    "my_lambda"
   ]
  },
  {
   "cell_type": "code",
   "execution_count": null,
   "id": "b8de1b80",
   "metadata": {},
   "outputs": [],
   "source": []
  }
 ],
 "metadata": {
  "kernelspec": {
   "display_name": "Python 3",
   "language": "python",
   "name": "python3"
  },
  "language_info": {
   "codemirror_mode": {
    "name": "ipython",
    "version": 3
   },
   "file_extension": ".py",
   "mimetype": "text/x-python",
   "name": "python",
   "nbconvert_exporter": "python",
   "pygments_lexer": "ipython3",
   "version": "3.9.4"
  }
 },
 "nbformat": 4,
 "nbformat_minor": 5
}
