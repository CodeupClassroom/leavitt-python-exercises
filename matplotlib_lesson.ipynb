{
 "cells": [
  {
   "cell_type": "markdown",
   "id": "29c34a6c",
   "metadata": {},
   "source": [
    "# Matplotlib - Visualization with Python"
   ]
  },
  {
   "cell_type": "markdown",
   "id": "d6a1edf2",
   "metadata": {},
   "source": [
    "- Comprehensive plotting library for python\n",
    "\n",
    "Different Types of Charts\n",
    "\n",
    "- Lineplot\n",
    "- Scatter plot\n",
    "- Histograms\n",
    "\n",
    "Gallery of plots\n",
    "https://matplotlib.org/3.3.3/gallery/index.html"
   ]
  },
  {
   "cell_type": "markdown",
   "id": "3d263462",
   "metadata": {},
   "source": [
    "## Import "
   ]
  },
  {
   "cell_type": "code",
   "execution_count": null,
   "id": "9e7e7604",
   "metadata": {},
   "outputs": [],
   "source": [
    "import matplotlib.pyplot as plt"
   ]
  },
  {
   "cell_type": "markdown",
   "id": "b06b54ca",
   "metadata": {},
   "source": [
    "- matplotlib.pyplot is a collection of functions that make matplotlib work like MATLAB\n",
    "- plt is the standard alias for matplotlib"
   ]
  },
  {
   "cell_type": "code",
   "execution_count": null,
   "id": "cdf8dea4",
   "metadata": {},
   "outputs": [],
   "source": [
    "plt"
   ]
  },
  {
   "cell_type": "markdown",
   "id": "177b612f",
   "metadata": {},
   "source": [
    "## Line plot"
   ]
  },
  {
   "cell_type": "markdown",
   "id": "82986f98",
   "metadata": {},
   "source": [
    "- .plot()"
   ]
  },
  {
   "cell_type": "markdown",
   "id": "f9a0e949",
   "metadata": {},
   "source": [
    "### Single line with one input"
   ]
  },
  {
   "cell_type": "code",
   "execution_count": null,
   "id": "5d977a00",
   "metadata": {},
   "outputs": [],
   "source": [
    "x = [1,2,3,4]"
   ]
  },
  {
   "cell_type": "code",
   "execution_count": null,
   "id": "57b8ec17",
   "metadata": {},
   "outputs": [],
   "source": []
  },
  {
   "cell_type": "code",
   "execution_count": null,
   "id": "947280b7",
   "metadata": {
    "scrolled": true
   },
   "outputs": [],
   "source": [
    "x = list(range(100))"
   ]
  },
  {
   "cell_type": "code",
   "execution_count": null,
   "id": "90af2187",
   "metadata": {},
   "outputs": [],
   "source": []
  },
  {
   "cell_type": "markdown",
   "id": "9e75e76f",
   "metadata": {},
   "source": [
    "### Single line with x & y defined"
   ]
  },
  {
   "cell_type": "code",
   "execution_count": null,
   "id": "a69b002d",
   "metadata": {},
   "outputs": [],
   "source": [
    "x = list(range(50))\n",
    "y = list(range(50,100))"
   ]
  },
  {
   "cell_type": "code",
   "execution_count": null,
   "id": "29ac7acd",
   "metadata": {},
   "outputs": [],
   "source": []
  },
  {
   "cell_type": "markdown",
   "id": "e86f1f13",
   "metadata": {},
   "source": [
    "### Multiple lines"
   ]
  },
  {
   "cell_type": "code",
   "execution_count": null,
   "id": "1c717e43",
   "metadata": {},
   "outputs": [],
   "source": [
    "x1 = [1,2,3,4]\n",
    "y1 = [5,8,2,10]\n",
    "\n",
    "x2 = [1.5,2.5,3.5,4.5]\n",
    "y2 = [10,8,9,4]"
   ]
  },
  {
   "cell_type": "code",
   "execution_count": null,
   "id": "93359283",
   "metadata": {},
   "outputs": [],
   "source": []
  },
  {
   "cell_type": "markdown",
   "id": "0cbbbdf9",
   "metadata": {},
   "source": [
    "## Scatterplot"
   ]
  },
  {
   "cell_type": "markdown",
   "id": "cc820e4e",
   "metadata": {},
   "source": [
    "- .scatter()\n",
    "- always need x and y coordinates"
   ]
  },
  {
   "cell_type": "markdown",
   "id": "8c936a36",
   "metadata": {},
   "source": [
    "### One set of data"
   ]
  },
  {
   "cell_type": "code",
   "execution_count": null,
   "id": "89de8a9d",
   "metadata": {},
   "outputs": [],
   "source": [
    "from random import randint"
   ]
  },
  {
   "cell_type": "code",
   "execution_count": null,
   "id": "757130bc",
   "metadata": {},
   "outputs": [],
   "source": [
    "x = [randint(-5, 35) + n for n in range(150)]\n",
    "y = range(len(x))"
   ]
  },
  {
   "cell_type": "code",
   "execution_count": null,
   "id": "2695b9f7",
   "metadata": {},
   "outputs": [],
   "source": []
  },
  {
   "cell_type": "markdown",
   "id": "88a2872c",
   "metadata": {},
   "source": [
    "### Two sets of data"
   ]
  },
  {
   "cell_type": "code",
   "execution_count": null,
   "id": "7b52927e",
   "metadata": {},
   "outputs": [],
   "source": [
    "x1 = [randint(-5, 35) + n for n in range(150)]\n",
    "y1 = range(len(x1))\n",
    "\n",
    "x2 = [randint(-30, 50) + n for n in range(150)]\n",
    "y2 = range(len(x2))"
   ]
  },
  {
   "cell_type": "code",
   "execution_count": null,
   "id": "ad7f6920",
   "metadata": {},
   "outputs": [],
   "source": []
  },
  {
   "cell_type": "markdown",
   "id": "797d578c",
   "metadata": {},
   "source": [
    "## Histogram"
   ]
  },
  {
   "cell_type": "markdown",
   "id": "2b98c905",
   "metadata": {},
   "source": [
    "- .hist()"
   ]
  },
  {
   "cell_type": "code",
   "execution_count": null,
   "id": "6c20b4a8",
   "metadata": {},
   "outputs": [],
   "source": [
    "from pydataset import data"
   ]
  },
  {
   "cell_type": "code",
   "execution_count": null,
   "id": "3dcf2f7e",
   "metadata": {},
   "outputs": [],
   "source": [
    "df = data('Mammals')\n",
    "df.head()"
   ]
  },
  {
   "cell_type": "code",
   "execution_count": null,
   "id": "e83100c4",
   "metadata": {},
   "outputs": [],
   "source": []
  },
  {
   "cell_type": "markdown",
   "id": "188a02ed",
   "metadata": {},
   "source": [
    "# FORMATTING!!!!!!!! "
   ]
  },
  {
   "cell_type": "markdown",
   "id": "4cb9d416",
   "metadata": {},
   "source": [
    "## Example 1"
   ]
  },
  {
   "cell_type": "code",
   "execution_count": null,
   "id": "ac04b9e7",
   "metadata": {},
   "outputs": [],
   "source": [
    "from random import randint\n",
    "\n",
    "x1 = list(range(10))\n",
    "y1 = [randint(0,10) + j for j in x1]\n",
    "\n",
    "x2 = list(range(10))\n",
    "y2 = [randint(0,10) + j for j in x2]\n",
    "\n",
    "x3 = list(range(10))\n",
    "y3 = [randint(0,10) + k for k in x3]"
   ]
  },
  {
   "cell_type": "markdown",
   "id": "d95b54e6",
   "metadata": {},
   "source": [
    "### Basic plot"
   ]
  },
  {
   "cell_type": "code",
   "execution_count": null,
   "id": "87d50b0b",
   "metadata": {},
   "outputs": [],
   "source": []
  },
  {
   "cell_type": "markdown",
   "id": "9834bd96",
   "metadata": {},
   "source": [
    "### Custom ticks & rotate"
   ]
  },
  {
   "cell_type": "markdown",
   "id": "1ed213af",
   "metadata": {},
   "source": [
    "- .xticks()\n",
    "- .xticks(rotation=)"
   ]
  },
  {
   "cell_type": "code",
   "execution_count": null,
   "id": "b2ce7980",
   "metadata": {},
   "outputs": [],
   "source": []
  },
  {
   "cell_type": "markdown",
   "id": "e596c6c9",
   "metadata": {},
   "source": [
    "### Markers & line styles"
   ]
  },
  {
   "cell_type": "markdown",
   "id": "eaf4e44d",
   "metadata": {},
   "source": [
    "- plot(marker=, ls=)"
   ]
  },
  {
   "cell_type": "code",
   "execution_count": null,
   "id": "6541ceb3",
   "metadata": {},
   "outputs": [],
   "source": []
  },
  {
   "cell_type": "markdown",
   "id": "22434527",
   "metadata": {},
   "source": [
    "### Figure & Subplots"
   ]
  },
  {
   "cell_type": "markdown",
   "id": "6b4cdc92",
   "metadata": {},
   "source": [
    "- .figure(figsize=()), .subplot()"
   ]
  },
  {
   "cell_type": "code",
   "execution_count": null,
   "id": "695d9774",
   "metadata": {},
   "outputs": [],
   "source": []
  },
  {
   "cell_type": "markdown",
   "id": "9da26e32",
   "metadata": {},
   "source": [
    "### Add limits"
   ]
  },
  {
   "cell_type": "markdown",
   "id": "c2cad90a",
   "metadata": {},
   "source": [
    "- .xlim(), .ylim()"
   ]
  },
  {
   "cell_type": "code",
   "execution_count": null,
   "id": "14c65eab",
   "metadata": {},
   "outputs": [],
   "source": []
  },
  {
   "cell_type": "code",
   "execution_count": null,
   "id": "97b14fff",
   "metadata": {},
   "outputs": [],
   "source": []
  },
  {
   "cell_type": "markdown",
   "id": "56ce5701",
   "metadata": {},
   "source": [
    "### Add text, lines, & arrows!!"
   ]
  },
  {
   "cell_type": "markdown",
   "id": "d7f89963",
   "metadata": {},
   "source": [
    "> .text, .hlines, .vlines, .annotate"
   ]
  },
  {
   "cell_type": "code",
   "execution_count": null,
   "id": "236daaff",
   "metadata": {},
   "outputs": [],
   "source": []
  },
  {
   "cell_type": "markdown",
   "id": "ce871e0e",
   "metadata": {},
   "source": [
    "## Example 2"
   ]
  },
  {
   "cell_type": "markdown",
   "id": "6c5e1ac4",
   "metadata": {},
   "source": [
    "data obtained from: https://www.kaggle.com/datasets/teertha/ushealthinsurancedataset"
   ]
  },
  {
   "cell_type": "code",
   "execution_count": null,
   "id": "5d497a09",
   "metadata": {},
   "outputs": [],
   "source": [
    "import pandas as pd"
   ]
  },
  {
   "cell_type": "code",
   "execution_count": null,
   "id": "e8987f01",
   "metadata": {},
   "outputs": [],
   "source": [
    "df = pd.read_csv('insurance.csv')\n",
    "df"
   ]
  },
  {
   "cell_type": "markdown",
   "id": "4f2febc7",
   "metadata": {},
   "source": [
    "### Basic plot"
   ]
  },
  {
   "cell_type": "markdown",
   "id": "06161e72",
   "metadata": {},
   "source": [
    "- bmi vs charges"
   ]
  },
  {
   "cell_type": "code",
   "execution_count": null,
   "id": "d70897a8",
   "metadata": {},
   "outputs": [],
   "source": []
  },
  {
   "cell_type": "markdown",
   "id": "e88ee626",
   "metadata": {},
   "source": [
    "### Basic plot - two sets of data"
   ]
  },
  {
   "cell_type": "markdown",
   "id": "71fcbc5c",
   "metadata": {},
   "source": [
    "- bmi vs charges for smoker and non-smoker"
   ]
  },
  {
   "cell_type": "code",
   "execution_count": null,
   "id": "38cb4a9e",
   "metadata": {},
   "outputs": [],
   "source": [
    "df_smoke_no = df [df.smoker == 'no']\n",
    "df_smoke_yes = df [df.smoker == 'yes']"
   ]
  },
  {
   "cell_type": "code",
   "execution_count": null,
   "id": "06f8b777",
   "metadata": {},
   "outputs": [],
   "source": []
  },
  {
   "cell_type": "markdown",
   "id": "7c3a0e6e",
   "metadata": {},
   "source": [
    "### Color"
   ]
  },
  {
   "cell_type": "markdown",
   "id": "aa83a864",
   "metadata": {},
   "source": [
    "- list of colors in matplotlib: https://matplotlib.org/stable/gallery/color/named_colors.html"
   ]
  },
  {
   "cell_type": "code",
   "execution_count": null,
   "id": "4ae65b34",
   "metadata": {},
   "outputs": [],
   "source": []
  },
  {
   "cell_type": "markdown",
   "id": "f93de412",
   "metadata": {},
   "source": [
    "### Transparency"
   ]
  },
  {
   "cell_type": "code",
   "execution_count": null,
   "id": "e1afc883",
   "metadata": {},
   "outputs": [],
   "source": []
  },
  {
   "cell_type": "markdown",
   "id": "70276bd4",
   "metadata": {},
   "source": [
    "### Size"
   ]
  },
  {
   "cell_type": "code",
   "execution_count": null,
   "id": "86d6ef11",
   "metadata": {},
   "outputs": [],
   "source": []
  },
  {
   "cell_type": "markdown",
   "id": "a5bf1c40",
   "metadata": {},
   "source": [
    "### Finalize - labels"
   ]
  },
  {
   "cell_type": "markdown",
   "id": "8f9970a3",
   "metadata": {},
   "source": [
    "- .figure, .title, .xlabel, .ylabel, .legend"
   ]
  },
  {
   "cell_type": "code",
   "execution_count": null,
   "id": "71286f6a",
   "metadata": {},
   "outputs": [],
   "source": []
  },
  {
   "cell_type": "markdown",
   "id": "a28836a3",
   "metadata": {},
   "source": [
    "### Save Figure"
   ]
  },
  {
   "cell_type": "markdown",
   "id": "9a894bb7",
   "metadata": {},
   "source": [
    "- plt.savefig('my_design')"
   ]
  },
  {
   "cell_type": "code",
   "execution_count": null,
   "id": "caf34a51",
   "metadata": {},
   "outputs": [],
   "source": []
  }
 ],
 "metadata": {
  "kernelspec": {
   "display_name": "Python 3 (ipykernel)",
   "language": "python",
   "name": "python3"
  },
  "language_info": {
   "codemirror_mode": {
    "name": "ipython",
    "version": 3
   },
   "file_extension": ".py",
   "mimetype": "text/x-python",
   "name": "python",
   "nbconvert_exporter": "python",
   "pygments_lexer": "ipython3",
   "version": "3.9.12"
  }
 },
 "nbformat": 4,
 "nbformat_minor": 5
}
